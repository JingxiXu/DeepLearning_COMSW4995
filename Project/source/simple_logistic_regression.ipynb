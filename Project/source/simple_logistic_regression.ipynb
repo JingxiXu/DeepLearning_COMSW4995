{
 "cells": [
  {
   "cell_type": "code",
   "execution_count": 1,
   "metadata": {
    "collapsed": true
   },
   "outputs": [],
   "source": [
    "import numpy as np\n",
    "import pandas as pd\n",
    "import seaborn as sns\n",
    "import matplotlib.pyplot as plt\n",
    "import scipy as sp"
   ]
  },
  {
   "cell_type": "code",
   "execution_count": 2,
   "metadata": {},
   "outputs": [
    {
     "name": "stdout",
     "output_type": "stream",
     "text": [
      "../input\\archive\n",
      "../input\\members.csv\n",
      "../input\\sample_submission.csv\n",
      "../input\\songs.csv\n",
      "../input\\song_extra_info.csv\n",
      "../input\\test.csv\n",
      "../input\\train.csv\n"
     ]
    }
   ],
   "source": [
    "import glob\n",
    "for x in glob.glob(\"../input/*\"):\n",
    "    print(x)"
   ]
  },
  {
   "cell_type": "code",
   "execution_count": 3,
   "metadata": {
    "collapsed": true
   },
   "outputs": [],
   "source": [
    "df_train = pd.read_csv(\"../input/train.csv\")\n",
    "df_test  = pd.read_csv('../input/test.csv')\n",
    "df_songs = pd.read_csv('../input/songs.csv')\n",
    "df_song_extra = pd.read_csv(\"../input/song_extra_info.csv\")\n",
    "df_members = pd.read_csv(\"../input/members.csv\",parse_dates=[\"registration_init_time\",\"expiration_date\"])"
   ]
  },
  {
   "cell_type": "markdown",
   "metadata": {},
   "source": [
    "# Preprocessing"
   ]
  },
  {
   "cell_type": "markdown",
   "metadata": {},
   "source": [
    "## Members"
   ]
  },
  {
   "cell_type": "code",
   "execution_count": 4,
   "metadata": {},
   "outputs": [
    {
     "name": "stdout",
     "output_type": "stream",
     "text": [
      "Index(['msno', 'city', 'bd', 'gender', 'registered_via',\n",
      "       'registration_init_time', 'expiration_date'],\n",
      "      dtype='object')\n"
     ]
    }
   ],
   "source": [
    "print(df_members.columns)"
   ]
  },
  {
   "cell_type": "code",
   "execution_count": 5,
   "metadata": {
    "collapsed": true
   },
   "outputs": [],
   "source": [
    "df_members['validate_days'] = (df_members['expiration_date'] - df_members['registration_init_time']).dt.days\n",
    "\n",
    "df_members['registration_year'] = df_members['registration_init_time'].apply(lambda x: str(x)[0:4])\n",
    "df_members['registration_month'] = df_members['registration_init_time'].apply(lambda x: str(x)[4:6])\n",
    "df_members['registration_date'] = df_members['registration_init_time'].apply(lambda x: str(x)[6:8])\n",
    "\n",
    "df_members['expiration_year'] = df_members['expiration_date'].apply(lambda x: str(x)[0:4])\n",
    "df_members['expiration_month'] = df_members['expiration_date'].apply(lambda x: str(x)[4:6])\n",
    "df_members['expiration_date'] = df_members['expiration_date'].apply(lambda x: str(x)[6:8])"
   ]
  },
  {
   "cell_type": "markdown",
   "metadata": {},
   "source": [
    "### Song year"
   ]
  },
  {
   "cell_type": "code",
   "execution_count": 6,
   "metadata": {
    "collapsed": true
   },
   "outputs": [],
   "source": [
    "def isrc_to_year(isrc):\n",
    "    if type(isrc) == str:\n",
    "        if int(isrc[5:7]) > 17:\n",
    "            return 1900 + int(isrc[5:7])\n",
    "        else:\n",
    "            return 2000 + int(isrc[5:7])\n",
    "    else:\n",
    "        return np.nan"
   ]
  },
  {
   "cell_type": "code",
   "execution_count": 7,
   "metadata": {
    "collapsed": true
   },
   "outputs": [],
   "source": [
    "df_song_extra['song_year'] = df_song_extra['isrc'].apply(isrc_to_year)"
   ]
  },
  {
   "cell_type": "code",
   "execution_count": 8,
   "metadata": {
    "collapsed": true
   },
   "outputs": [],
   "source": [
    "df_song_extra.drop(['isrc', 'name'], axis = 1, inplace = True)"
   ]
  },
  {
   "cell_type": "code",
   "execution_count": 9,
   "metadata": {
    "collapsed": true
   },
   "outputs": [],
   "source": [
    "df_train = df_train.merge(df_songs, how=\"left\", on=\"song_id\")\n",
    "df_train = df_train.merge(df_members, how=\"left\", on=\"msno\")\n",
    "df_train = df_train.merge(df_song_extra, how='left', on='song_id')\n",
    "\n",
    "df_test  = df_test.merge(df_songs, how=\"left\", on=\"song_id\")\n",
    "df_test  = df_test.merge(df_members, how=\"left\", on=\"msno\")\n",
    "df_test = df_test.merge(df_song_extra, how='left', on='song_id')"
   ]
  },
  {
   "cell_type": "code",
   "execution_count": 10,
   "metadata": {
    "scrolled": true
   },
   "outputs": [
    {
     "data": {
      "text/html": [
       "<div>\n",
       "<style>\n",
       "    .dataframe thead tr:only-child th {\n",
       "        text-align: right;\n",
       "    }\n",
       "\n",
       "    .dataframe thead th {\n",
       "        text-align: left;\n",
       "    }\n",
       "\n",
       "    .dataframe tbody tr th {\n",
       "        vertical-align: top;\n",
       "    }\n",
       "</style>\n",
       "<table border=\"1\" class=\"dataframe\">\n",
       "  <thead>\n",
       "    <tr style=\"text-align: right;\">\n",
       "      <th></th>\n",
       "      <th>msno</th>\n",
       "      <th>song_id</th>\n",
       "      <th>source_system_tab</th>\n",
       "      <th>source_screen_name</th>\n",
       "      <th>source_type</th>\n",
       "      <th>target</th>\n",
       "      <th>song_length</th>\n",
       "      <th>genre_ids</th>\n",
       "      <th>artist_name</th>\n",
       "      <th>composer</th>\n",
       "      <th>...</th>\n",
       "      <th>registered_via</th>\n",
       "      <th>registration_init_time</th>\n",
       "      <th>expiration_date</th>\n",
       "      <th>validate_days</th>\n",
       "      <th>registration_year</th>\n",
       "      <th>registration_month</th>\n",
       "      <th>registration_date</th>\n",
       "      <th>expiration_year</th>\n",
       "      <th>expiration_month</th>\n",
       "      <th>song_year</th>\n",
       "    </tr>\n",
       "  </thead>\n",
       "  <tbody>\n",
       "    <tr>\n",
       "      <th>0</th>\n",
       "      <td>FGtllVqz18RPiwJj/edr2gV78zirAiY/9SmYvia+kCg=</td>\n",
       "      <td>BBzumQNXUHKdEBOB7mAJuzok+IJA1c2Ryg/yzTF6tik=</td>\n",
       "      <td>explore</td>\n",
       "      <td>Explore</td>\n",
       "      <td>online-playlist</td>\n",
       "      <td>1</td>\n",
       "      <td>206471.0</td>\n",
       "      <td>359</td>\n",
       "      <td>Bastille</td>\n",
       "      <td>Dan Smith| Mark Crew</td>\n",
       "      <td>...</td>\n",
       "      <td>7</td>\n",
       "      <td>2012-01-02</td>\n",
       "      <td>0-</td>\n",
       "      <td>2103</td>\n",
       "      <td>2012</td>\n",
       "      <td>-0</td>\n",
       "      <td>1-</td>\n",
       "      <td>2017</td>\n",
       "      <td>-1</td>\n",
       "      <td>2016.0</td>\n",
       "    </tr>\n",
       "    <tr>\n",
       "      <th>1</th>\n",
       "      <td>Xumu+NIjS6QYVxDS4/t3SawvJ7viT9hPKXmf0RtLNx8=</td>\n",
       "      <td>bhp/MpSNoqoxOIB+/l8WPqu6jldth4DIpCm3ayXnJqM=</td>\n",
       "      <td>my library</td>\n",
       "      <td>Local playlist more</td>\n",
       "      <td>local-playlist</td>\n",
       "      <td>1</td>\n",
       "      <td>284584.0</td>\n",
       "      <td>1259</td>\n",
       "      <td>Various Artists</td>\n",
       "      <td>NaN</td>\n",
       "      <td>...</td>\n",
       "      <td>9</td>\n",
       "      <td>2011-05-25</td>\n",
       "      <td>9-</td>\n",
       "      <td>2301</td>\n",
       "      <td>2011</td>\n",
       "      <td>-0</td>\n",
       "      <td>5-</td>\n",
       "      <td>2017</td>\n",
       "      <td>-0</td>\n",
       "      <td>1999.0</td>\n",
       "    </tr>\n",
       "    <tr>\n",
       "      <th>2</th>\n",
       "      <td>Xumu+NIjS6QYVxDS4/t3SawvJ7viT9hPKXmf0RtLNx8=</td>\n",
       "      <td>JNWfrrC7zNN7BdMpsISKa4Mw+xVJYNnxXh3/Epw7QgY=</td>\n",
       "      <td>my library</td>\n",
       "      <td>Local playlist more</td>\n",
       "      <td>local-playlist</td>\n",
       "      <td>1</td>\n",
       "      <td>225396.0</td>\n",
       "      <td>1259</td>\n",
       "      <td>Nas</td>\n",
       "      <td>N. Jones、W. Adams、J. Lordan、D. Ingle</td>\n",
       "      <td>...</td>\n",
       "      <td>9</td>\n",
       "      <td>2011-05-25</td>\n",
       "      <td>9-</td>\n",
       "      <td>2301</td>\n",
       "      <td>2011</td>\n",
       "      <td>-0</td>\n",
       "      <td>5-</td>\n",
       "      <td>2017</td>\n",
       "      <td>-0</td>\n",
       "      <td>2006.0</td>\n",
       "    </tr>\n",
       "    <tr>\n",
       "      <th>3</th>\n",
       "      <td>Xumu+NIjS6QYVxDS4/t3SawvJ7viT9hPKXmf0RtLNx8=</td>\n",
       "      <td>2A87tzfnJTSWqD7gIZHisolhe4DMdzkbd6LzO1KHjNs=</td>\n",
       "      <td>my library</td>\n",
       "      <td>Local playlist more</td>\n",
       "      <td>local-playlist</td>\n",
       "      <td>1</td>\n",
       "      <td>255512.0</td>\n",
       "      <td>1019</td>\n",
       "      <td>Soundway</td>\n",
       "      <td>Kwadwo Donkoh</td>\n",
       "      <td>...</td>\n",
       "      <td>9</td>\n",
       "      <td>2011-05-25</td>\n",
       "      <td>9-</td>\n",
       "      <td>2301</td>\n",
       "      <td>2011</td>\n",
       "      <td>-0</td>\n",
       "      <td>5-</td>\n",
       "      <td>2017</td>\n",
       "      <td>-0</td>\n",
       "      <td>2010.0</td>\n",
       "    </tr>\n",
       "    <tr>\n",
       "      <th>4</th>\n",
       "      <td>FGtllVqz18RPiwJj/edr2gV78zirAiY/9SmYvia+kCg=</td>\n",
       "      <td>3qm6XTZ6MOCU11x8FIVbAGH5l5uMkT3/ZalWG1oo2Gc=</td>\n",
       "      <td>explore</td>\n",
       "      <td>Explore</td>\n",
       "      <td>online-playlist</td>\n",
       "      <td>1</td>\n",
       "      <td>187802.0</td>\n",
       "      <td>1011</td>\n",
       "      <td>Brett Young</td>\n",
       "      <td>Brett Young| Kelly Archer| Justin Ebach</td>\n",
       "      <td>...</td>\n",
       "      <td>7</td>\n",
       "      <td>2012-01-02</td>\n",
       "      <td>0-</td>\n",
       "      <td>2103</td>\n",
       "      <td>2012</td>\n",
       "      <td>-0</td>\n",
       "      <td>1-</td>\n",
       "      <td>2017</td>\n",
       "      <td>-1</td>\n",
       "      <td>2016.0</td>\n",
       "    </tr>\n",
       "  </tbody>\n",
       "</table>\n",
       "<p>5 rows × 25 columns</p>\n",
       "</div>"
      ],
      "text/plain": [
       "                                           msno  \\\n",
       "0  FGtllVqz18RPiwJj/edr2gV78zirAiY/9SmYvia+kCg=   \n",
       "1  Xumu+NIjS6QYVxDS4/t3SawvJ7viT9hPKXmf0RtLNx8=   \n",
       "2  Xumu+NIjS6QYVxDS4/t3SawvJ7viT9hPKXmf0RtLNx8=   \n",
       "3  Xumu+NIjS6QYVxDS4/t3SawvJ7viT9hPKXmf0RtLNx8=   \n",
       "4  FGtllVqz18RPiwJj/edr2gV78zirAiY/9SmYvia+kCg=   \n",
       "\n",
       "                                        song_id source_system_tab  \\\n",
       "0  BBzumQNXUHKdEBOB7mAJuzok+IJA1c2Ryg/yzTF6tik=           explore   \n",
       "1  bhp/MpSNoqoxOIB+/l8WPqu6jldth4DIpCm3ayXnJqM=        my library   \n",
       "2  JNWfrrC7zNN7BdMpsISKa4Mw+xVJYNnxXh3/Epw7QgY=        my library   \n",
       "3  2A87tzfnJTSWqD7gIZHisolhe4DMdzkbd6LzO1KHjNs=        my library   \n",
       "4  3qm6XTZ6MOCU11x8FIVbAGH5l5uMkT3/ZalWG1oo2Gc=           explore   \n",
       "\n",
       "    source_screen_name      source_type  target  song_length genre_ids  \\\n",
       "0              Explore  online-playlist       1     206471.0       359   \n",
       "1  Local playlist more   local-playlist       1     284584.0      1259   \n",
       "2  Local playlist more   local-playlist       1     225396.0      1259   \n",
       "3  Local playlist more   local-playlist       1     255512.0      1019   \n",
       "4              Explore  online-playlist       1     187802.0      1011   \n",
       "\n",
       "       artist_name                                 composer    ...     \\\n",
       "0         Bastille                     Dan Smith| Mark Crew    ...      \n",
       "1  Various Artists                                      NaN    ...      \n",
       "2              Nas     N. Jones、W. Adams、J. Lordan、D. Ingle    ...      \n",
       "3         Soundway                            Kwadwo Donkoh    ...      \n",
       "4      Brett Young  Brett Young| Kelly Archer| Justin Ebach    ...      \n",
       "\n",
       "  registered_via  registration_init_time  expiration_date  validate_days  \\\n",
       "0              7              2012-01-02               0-           2103   \n",
       "1              9              2011-05-25               9-           2301   \n",
       "2              9              2011-05-25               9-           2301   \n",
       "3              9              2011-05-25               9-           2301   \n",
       "4              7              2012-01-02               0-           2103   \n",
       "\n",
       "  registration_year  registration_month registration_date expiration_year  \\\n",
       "0              2012                  -0                1-            2017   \n",
       "1              2011                  -0                5-            2017   \n",
       "2              2011                  -0                5-            2017   \n",
       "3              2011                  -0                5-            2017   \n",
       "4              2012                  -0                1-            2017   \n",
       "\n",
       "   expiration_month song_year  \n",
       "0                -1    2016.0  \n",
       "1                -0    1999.0  \n",
       "2                -0    2006.0  \n",
       "3                -0    2010.0  \n",
       "4                -1    2016.0  \n",
       "\n",
       "[5 rows x 25 columns]"
      ]
     },
     "execution_count": 10,
     "metadata": {},
     "output_type": "execute_result"
    }
   ],
   "source": [
    "df_train.head()"
   ]
  },
  {
   "cell_type": "markdown",
   "metadata": {},
   "source": [
    "## Fill in null"
   ]
  },
  {
   "cell_type": "code",
   "execution_count": 11,
   "metadata": {},
   "outputs": [
    {
     "name": "stdout",
     "output_type": "stream",
     "text": [
      "object     source_system_tab\n",
      "object     source_screen_name\n",
      "object     source_type\n",
      "float64    song_length\n",
      "object     genre_ids\n",
      "object     artist_name\n",
      "object     composer\n",
      "object     lyricist\n",
      "float64    language\n",
      "object     gender\n",
      "float64    song_year\n"
     ]
    }
   ],
   "source": [
    "for col in df_train.columns:\n",
    "    if df_train[col].isnull().any() or df_train[col].isnull().any():\n",
    "        print('{:10} {}'.format(str(df_train[col].dtype), col))"
   ]
  },
  {
   "cell_type": "code",
   "execution_count": 12,
   "metadata": {
    "collapsed": true
   },
   "outputs": [],
   "source": [
    "col_fill_with_unknown = [\n",
    "    'source_system_tab', 'source_screen_name', 'source_type', 'gender',\n",
    "    'genre_ids', 'artist_name', 'composer', 'lyricist'\n",
    "]\n",
    "for col in col_fill_with_unknown:\n",
    "    df_train[col].fillna(value=\"Unknown\", inplace=True)\n",
    "    df_test[col].fillna(value=\"Unknown\", inplace=True)\n",
    "\n",
    "for col in ['song_year']:\n",
    "    df_train[col].fillna(value=-1, inplace=True)\n",
    "    df_test[col].fillna(value=-1, inplace=True)"
   ]
  },
  {
   "cell_type": "code",
   "execution_count": 13,
   "metadata": {
    "collapsed": true
   },
   "outputs": [],
   "source": [
    "df_train['song_length'].fillna(value=df_train['song_length'].mean(),inplace=True)\n",
    "df_test['song_length'].fillna(value=df_test['song_length'].mean(),inplace=True)"
   ]
  },
  {
   "cell_type": "code",
   "execution_count": 14,
   "metadata": {
    "collapsed": true
   },
   "outputs": [],
   "source": [
    "df_train['language'].fillna(value=df_train['language'].mode()[0],inplace=True)\n",
    "df_test['language'].fillna(value=df_test['language'].mode()[0],inplace=True)"
   ]
  },
  {
   "cell_type": "code",
   "execution_count": 15,
   "metadata": {
    "collapsed": true
   },
   "outputs": [],
   "source": [
    "df_train['genre_ids'] = df_train['genre_ids'].str.split(\"|\")\n",
    "df_test['genre_ids'] = df_test['genre_ids'].str.split(\"|\")\n",
    "df_train['genre_count'] = df_train['genre_ids'].apply(lambda x : len(x) if \"Unknown\" not in x else 0)\n",
    "df_test['genre_count'] = df_test['genre_ids'].apply(lambda x : len(x) if \"Unknown\" not in x else 0)"
   ]
  },
  {
   "cell_type": "code",
   "execution_count": 16,
   "metadata": {
    "collapsed": true
   },
   "outputs": [],
   "source": [
    "df_artists = df_train.loc[:,[\"artist_name\",\"target\"]]\n",
    "artists_repeat = df_artists.groupby([\"artist_name\"], as_index=False).sum().rename(columns={\"target\":\"repeat_count\"})\n",
    "artists_play = df_artists.groupby([\"artist_name\"], as_index=False).count().rename(columns = {\"target\":\"play_count\"})\n",
    "df_artists_repeat = artists_repeat.merge(artists_play, how='inner', on='artist_name')"
   ]
  },
  {
   "cell_type": "code",
   "execution_count": 17,
   "metadata": {
    "collapsed": true
   },
   "outputs": [],
   "source": [
    "df_artists_repeat['artist_repeat_percentage'] = round(\n",
    "    (df_artists_repeat['repeat_count']*100) / df_artists_repeat['play_count'], \n",
    "    1\n",
    ")"
   ]
  },
  {
   "cell_type": "code",
   "execution_count": 18,
   "metadata": {
    "collapsed": true
   },
   "outputs": [],
   "source": [
    "df_train = df_train.merge(df_artists_repeat, on=\"artist_name\",how=\"left\")\n",
    "df_test = df_test.merge(df_artists_repeat,on=\"artist_name\",how=\"left\")"
   ]
  },
  {
   "cell_type": "code",
   "execution_count": 19,
   "metadata": {
    "collapsed": true
   },
   "outputs": [],
   "source": [
    "# df_test['repeat_count'].fillna(np.nanmedian(df_test['repeat_count']), inplace=True)\n",
    "# df_test['play_count'].fillna(np.nanmedian(df_test['play_count']), inplace=True)\n",
    "# df_test['artist_repeat_percentage'].fillna(np.nanmedian(df_test['artist_repeat_percentage']), inplace=True)\n",
    "\n",
    "for col in ['repeat_count', 'play_count', 'artist_repeat_percentage']:\n",
    "    df_test[col].fillna(np.nanmedian(df_test[col]), inplace=True, downcast='infer')"
   ]
  },
  {
   "cell_type": "code",
   "execution_count": 20,
   "metadata": {
    "collapsed": true
   },
   "outputs": [],
   "source": [
    "del df_artists\n",
    "del df_artists_repeat\n",
    "del artists_play\n",
    "del artists_repeat"
   ]
  },
  {
   "cell_type": "code",
   "execution_count": 21,
   "metadata": {
    "collapsed": true
   },
   "outputs": [],
   "source": [
    "# 可能需要处理顿号\n",
    "df_train['composer'] = df_train['composer'].str.split(\"|\") \n",
    "df_test['composer'] = df_test['composer'].str.split(\"|\")\n",
    "df_train['composer_count'] = df_train['composer'].apply(lambda x : len(x) if \"Unknown\" not in x else 0 )\n",
    "df_test['composer_count'] = df_test['composer'].apply(lambda x : len(x) if \"Unknown\" not in x else 0 )"
   ]
  },
  {
   "cell_type": "code",
   "execution_count": 23,
   "metadata": {},
   "outputs": [],
   "source": [
    "df_train['lyricist'] = df_train['lyricist'].str.split(\"|\")\n",
    "df_test['lyricist'] = df_test['lyricist'].str.split(\"|\")\n",
    "df_train['lyricist_count'] = df_train['lyricist'].apply(lambda x : len(x) if \"Unknown\" not in x else 0 )\n",
    "df_test['lyricist_count'] = df_test['lyricist'].apply(lambda x : len(x) if \"Unknown\" not in x else 0 )"
   ]
  },
  {
   "cell_type": "code",
   "execution_count": 24,
   "metadata": {},
   "outputs": [
    {
     "data": {
      "text/html": [
       "<div>\n",
       "<style>\n",
       "    .dataframe thead tr:only-child th {\n",
       "        text-align: right;\n",
       "    }\n",
       "\n",
       "    .dataframe thead th {\n",
       "        text-align: left;\n",
       "    }\n",
       "\n",
       "    .dataframe tbody tr th {\n",
       "        vertical-align: top;\n",
       "    }\n",
       "</style>\n",
       "<table border=\"1\" class=\"dataframe\">\n",
       "  <thead>\n",
       "    <tr style=\"text-align: right;\">\n",
       "      <th></th>\n",
       "      <th>msno</th>\n",
       "      <th>song_id</th>\n",
       "      <th>source_system_tab</th>\n",
       "      <th>source_screen_name</th>\n",
       "      <th>source_type</th>\n",
       "      <th>target</th>\n",
       "      <th>song_length</th>\n",
       "      <th>genre_ids</th>\n",
       "      <th>artist_name</th>\n",
       "      <th>composer</th>\n",
       "      <th>...</th>\n",
       "      <th>registration_date</th>\n",
       "      <th>expiration_year</th>\n",
       "      <th>expiration_month</th>\n",
       "      <th>song_year</th>\n",
       "      <th>genre_count</th>\n",
       "      <th>repeat_count</th>\n",
       "      <th>play_count</th>\n",
       "      <th>artist_repeat_percentage</th>\n",
       "      <th>composer_count</th>\n",
       "      <th>lyricist_count</th>\n",
       "    </tr>\n",
       "  </thead>\n",
       "  <tbody>\n",
       "    <tr>\n",
       "      <th>0</th>\n",
       "      <td>FGtllVqz18RPiwJj/edr2gV78zirAiY/9SmYvia+kCg=</td>\n",
       "      <td>BBzumQNXUHKdEBOB7mAJuzok+IJA1c2Ryg/yzTF6tik=</td>\n",
       "      <td>explore</td>\n",
       "      <td>Explore</td>\n",
       "      <td>online-playlist</td>\n",
       "      <td>1</td>\n",
       "      <td>206471.0</td>\n",
       "      <td>[359]</td>\n",
       "      <td>Bastille</td>\n",
       "      <td>[Dan Smith,  Mark Crew]</td>\n",
       "      <td>...</td>\n",
       "      <td>1-</td>\n",
       "      <td>2017</td>\n",
       "      <td>-1</td>\n",
       "      <td>2016.0</td>\n",
       "      <td>1</td>\n",
       "      <td>528</td>\n",
       "      <td>1140</td>\n",
       "      <td>46.3</td>\n",
       "      <td>2</td>\n",
       "      <td>0</td>\n",
       "    </tr>\n",
       "    <tr>\n",
       "      <th>1</th>\n",
       "      <td>Xumu+NIjS6QYVxDS4/t3SawvJ7viT9hPKXmf0RtLNx8=</td>\n",
       "      <td>bhp/MpSNoqoxOIB+/l8WPqu6jldth4DIpCm3ayXnJqM=</td>\n",
       "      <td>my library</td>\n",
       "      <td>Local playlist more</td>\n",
       "      <td>local-playlist</td>\n",
       "      <td>1</td>\n",
       "      <td>284584.0</td>\n",
       "      <td>[1259]</td>\n",
       "      <td>Various Artists</td>\n",
       "      <td>[Unknown]</td>\n",
       "      <td>...</td>\n",
       "      <td>5-</td>\n",
       "      <td>2017</td>\n",
       "      <td>-0</td>\n",
       "      <td>1999.0</td>\n",
       "      <td>1</td>\n",
       "      <td>154799</td>\n",
       "      <td>303616</td>\n",
       "      <td>51.0</td>\n",
       "      <td>0</td>\n",
       "      <td>0</td>\n",
       "    </tr>\n",
       "    <tr>\n",
       "      <th>2</th>\n",
       "      <td>Xumu+NIjS6QYVxDS4/t3SawvJ7viT9hPKXmf0RtLNx8=</td>\n",
       "      <td>JNWfrrC7zNN7BdMpsISKa4Mw+xVJYNnxXh3/Epw7QgY=</td>\n",
       "      <td>my library</td>\n",
       "      <td>Local playlist more</td>\n",
       "      <td>local-playlist</td>\n",
       "      <td>1</td>\n",
       "      <td>225396.0</td>\n",
       "      <td>[1259]</td>\n",
       "      <td>Nas</td>\n",
       "      <td>[N. Jones、W. Adams、J. Lordan、D. Ingle]</td>\n",
       "      <td>...</td>\n",
       "      <td>5-</td>\n",
       "      <td>2017</td>\n",
       "      <td>-0</td>\n",
       "      <td>2006.0</td>\n",
       "      <td>1</td>\n",
       "      <td>62</td>\n",
       "      <td>289</td>\n",
       "      <td>21.5</td>\n",
       "      <td>1</td>\n",
       "      <td>0</td>\n",
       "    </tr>\n",
       "    <tr>\n",
       "      <th>3</th>\n",
       "      <td>Xumu+NIjS6QYVxDS4/t3SawvJ7viT9hPKXmf0RtLNx8=</td>\n",
       "      <td>2A87tzfnJTSWqD7gIZHisolhe4DMdzkbd6LzO1KHjNs=</td>\n",
       "      <td>my library</td>\n",
       "      <td>Local playlist more</td>\n",
       "      <td>local-playlist</td>\n",
       "      <td>1</td>\n",
       "      <td>255512.0</td>\n",
       "      <td>[1019]</td>\n",
       "      <td>Soundway</td>\n",
       "      <td>[Kwadwo Donkoh]</td>\n",
       "      <td>...</td>\n",
       "      <td>5-</td>\n",
       "      <td>2017</td>\n",
       "      <td>-0</td>\n",
       "      <td>2010.0</td>\n",
       "      <td>1</td>\n",
       "      <td>1</td>\n",
       "      <td>1</td>\n",
       "      <td>100.0</td>\n",
       "      <td>1</td>\n",
       "      <td>0</td>\n",
       "    </tr>\n",
       "    <tr>\n",
       "      <th>4</th>\n",
       "      <td>FGtllVqz18RPiwJj/edr2gV78zirAiY/9SmYvia+kCg=</td>\n",
       "      <td>3qm6XTZ6MOCU11x8FIVbAGH5l5uMkT3/ZalWG1oo2Gc=</td>\n",
       "      <td>explore</td>\n",
       "      <td>Explore</td>\n",
       "      <td>online-playlist</td>\n",
       "      <td>1</td>\n",
       "      <td>187802.0</td>\n",
       "      <td>[1011]</td>\n",
       "      <td>Brett Young</td>\n",
       "      <td>[Brett Young,  Kelly Archer,  Justin Ebach]</td>\n",
       "      <td>...</td>\n",
       "      <td>1-</td>\n",
       "      <td>2017</td>\n",
       "      <td>-1</td>\n",
       "      <td>2016.0</td>\n",
       "      <td>1</td>\n",
       "      <td>161</td>\n",
       "      <td>427</td>\n",
       "      <td>37.7</td>\n",
       "      <td>3</td>\n",
       "      <td>0</td>\n",
       "    </tr>\n",
       "  </tbody>\n",
       "</table>\n",
       "<p>5 rows × 31 columns</p>\n",
       "</div>"
      ],
      "text/plain": [
       "                                           msno  \\\n",
       "0  FGtllVqz18RPiwJj/edr2gV78zirAiY/9SmYvia+kCg=   \n",
       "1  Xumu+NIjS6QYVxDS4/t3SawvJ7viT9hPKXmf0RtLNx8=   \n",
       "2  Xumu+NIjS6QYVxDS4/t3SawvJ7viT9hPKXmf0RtLNx8=   \n",
       "3  Xumu+NIjS6QYVxDS4/t3SawvJ7viT9hPKXmf0RtLNx8=   \n",
       "4  FGtllVqz18RPiwJj/edr2gV78zirAiY/9SmYvia+kCg=   \n",
       "\n",
       "                                        song_id source_system_tab  \\\n",
       "0  BBzumQNXUHKdEBOB7mAJuzok+IJA1c2Ryg/yzTF6tik=           explore   \n",
       "1  bhp/MpSNoqoxOIB+/l8WPqu6jldth4DIpCm3ayXnJqM=        my library   \n",
       "2  JNWfrrC7zNN7BdMpsISKa4Mw+xVJYNnxXh3/Epw7QgY=        my library   \n",
       "3  2A87tzfnJTSWqD7gIZHisolhe4DMdzkbd6LzO1KHjNs=        my library   \n",
       "4  3qm6XTZ6MOCU11x8FIVbAGH5l5uMkT3/ZalWG1oo2Gc=           explore   \n",
       "\n",
       "    source_screen_name      source_type  target  song_length genre_ids  \\\n",
       "0              Explore  online-playlist       1     206471.0     [359]   \n",
       "1  Local playlist more   local-playlist       1     284584.0    [1259]   \n",
       "2  Local playlist more   local-playlist       1     225396.0    [1259]   \n",
       "3  Local playlist more   local-playlist       1     255512.0    [1019]   \n",
       "4              Explore  online-playlist       1     187802.0    [1011]   \n",
       "\n",
       "       artist_name                                     composer  \\\n",
       "0         Bastille                      [Dan Smith,  Mark Crew]   \n",
       "1  Various Artists                                    [Unknown]   \n",
       "2              Nas       [N. Jones、W. Adams、J. Lordan、D. Ingle]   \n",
       "3         Soundway                              [Kwadwo Donkoh]   \n",
       "4      Brett Young  [Brett Young,  Kelly Archer,  Justin Ebach]   \n",
       "\n",
       "       ...       registration_date  expiration_year  expiration_month  \\\n",
       "0      ...                      1-             2017                -1   \n",
       "1      ...                      5-             2017                -0   \n",
       "2      ...                      5-             2017                -0   \n",
       "3      ...                      5-             2017                -0   \n",
       "4      ...                      1-             2017                -1   \n",
       "\n",
       "   song_year genre_count  repeat_count play_count artist_repeat_percentage  \\\n",
       "0     2016.0           1           528       1140                     46.3   \n",
       "1     1999.0           1        154799     303616                     51.0   \n",
       "2     2006.0           1            62        289                     21.5   \n",
       "3     2010.0           1             1          1                    100.0   \n",
       "4     2016.0           1           161        427                     37.7   \n",
       "\n",
       "   composer_count lyricist_count  \n",
       "0               2              0  \n",
       "1               0              0  \n",
       "2               1              0  \n",
       "3               1              0  \n",
       "4               3              0  \n",
       "\n",
       "[5 rows x 31 columns]"
      ]
     },
     "execution_count": 24,
     "metadata": {},
     "output_type": "execute_result"
    }
   ],
   "source": [
    "df_train.head()"
   ]
  },
  {
   "cell_type": "code",
   "execution_count": 25,
   "metadata": {
    "scrolled": true
   },
   "outputs": [
    {
     "data": {
      "text/plain": [
       "Index(['msno', 'song_id', 'source_system_tab', 'source_screen_name',\n",
       "       'source_type', 'target', 'song_length', 'genre_ids', 'artist_name',\n",
       "       'composer', 'lyricist', 'language', 'city', 'bd', 'gender',\n",
       "       'registered_via', 'registration_init_time', 'expiration_date',\n",
       "       'validate_days', 'registration_year', 'registration_month',\n",
       "       'registration_date', 'expiration_year', 'expiration_month', 'song_year',\n",
       "       'genre_count', 'repeat_count', 'play_count', 'artist_repeat_percentage',\n",
       "       'composer_count', 'lyricist_count'],\n",
       "      dtype='object')"
      ]
     },
     "execution_count": 25,
     "metadata": {},
     "output_type": "execute_result"
    }
   ],
   "source": [
    "df_train.columns"
   ]
  },
  {
   "cell_type": "markdown",
   "metadata": {},
   "source": [
    "# Categorical"
   ]
  },
  {
   "cell_type": "code",
   "execution_count": 26,
   "metadata": {
    "collapsed": true
   },
   "outputs": [],
   "source": [
    "import time\n",
    "# print(time.strftime(\"%Y-%m-%d %H:%M:%S\"))"
   ]
  },
  {
   "cell_type": "code",
   "execution_count": 27,
   "metadata": {
    "collapsed": true
   },
   "outputs": [],
   "source": [
    "from sklearn.preprocessing import MultiLabelBinarizer\n",
    "from sklearn.preprocessing import LabelBinarizer"
   ]
  },
  {
   "cell_type": "code",
   "execution_count": 28,
   "metadata": {},
   "outputs": [
    {
     "name": "stdout",
     "output_type": "stream",
     "text": [
      "2017-11-19 22:19:32\n",
      "source_system_tab..source_screen_name..source_type..artist_name..language..city..bd..gender..registered_via..song_year..\n",
      "2017-11-19 22:24:20\n"
     ]
    }
   ],
   "source": [
    "print(time.strftime(\"%Y-%m-%d %H:%M:%S\"))\n",
    "one_hot_cols = [\n",
    "    'source_system_tab', 'source_screen_name', 'source_type', \n",
    "    'artist_name', 'language', 'city', 'bd', 'gender', 'registered_via',\n",
    "    'song_year'\n",
    "]\n",
    "one_hot_train = dict()\n",
    "one_hot_test = dict()\n",
    "for col in one_hot_cols:\n",
    "    print(col, end='..')\n",
    "    olb = LabelBinarizer(sparse_output=True)\n",
    "    all_data = pd.concat([df_train[col], df_test[col]])\n",
    "    olb.fit(all_data)\n",
    "    one_hot_train[col] = olb.transform(df_train[col])\n",
    "    one_hot_test[col] = olb.transform(df_test[col])\n",
    "print()\n",
    "print(time.strftime(\"%Y-%m-%d %H:%M:%S\"))"
   ]
  },
  {
   "cell_type": "code",
   "execution_count": 29,
   "metadata": {},
   "outputs": [
    {
     "name": "stdout",
     "output_type": "stream",
     "text": [
      "2017-11-19 22:24:20\n",
      "genre_ids..composer..lyricist..\n",
      "2017-11-19 22:25:04\n"
     ]
    }
   ],
   "source": [
    "print(time.strftime(\"%Y-%m-%d %H:%M:%S\"))\n",
    "mul_hot_cols = ['genre_ids', 'composer', 'lyricist']\n",
    "mul_hot_train = dict()\n",
    "mul_hot_test = dict()\n",
    "for col in mul_hot_cols:\n",
    "    print(col, end='..')\n",
    "    mlb = MultiLabelBinarizer(sparse_output=True)\n",
    "    all_data = pd.concat([df_train[col], df_test[col]])\n",
    "    mlb.fit(all_data)\n",
    "    mul_hot_train[col] = mlb.transform(df_train[col])\n",
    "    mul_hot_test[col] = mlb.transform(df_test[col])\n",
    "print()\n",
    "print(time.strftime(\"%Y-%m-%d %H:%M:%S\"))"
   ]
  },
  {
   "cell_type": "code",
   "execution_count": 30,
   "metadata": {},
   "outputs": [
    {
     "name": "stdout",
     "output_type": "stream",
     "text": [
      "float64    song_length\n",
      "int64      validate_days\n",
      "int64      genre_count\n",
      "int64      repeat_count\n",
      "int64      play_count\n",
      "float64    artist_repeat_percentage\n",
      "int64      composer_count\n",
      "int64      lyricist_count\n"
     ]
    }
   ],
   "source": [
    "num_cols = ['song_length', 'validate_days', 'genre_count', 'repeat_count',\n",
    "            'play_count', 'artist_repeat_percentage', 'composer_count', 'lyricist_count']\n",
    "for col in num_cols:\n",
    "    print('{:10} {}'.format(str(df_train[col].dtype), col))"
   ]
  },
  {
   "cell_type": "code",
   "execution_count": 31,
   "metadata": {},
   "outputs": [
    {
     "name": "stdout",
     "output_type": "stream",
     "text": [
      "21 31\n",
      "21 31\n"
     ]
    }
   ],
   "source": [
    "print(len(num_cols) + len(one_hot_cols) + len(mul_hot_cols), len(df_train.columns))\n",
    "print(len(num_cols) + len(one_hot_cols) + len(mul_hot_cols), len(df_test.columns))"
   ]
  },
  {
   "cell_type": "code",
   "execution_count": 32,
   "metadata": {},
   "outputs": [
    {
     "name": "stdout",
     "output_type": "stream",
     "text": [
      "{'target', 'msno', 'registration_date', 'registration_year', 'expiration_month', 'expiration_date', 'song_id', 'registration_month', 'expiration_year', 'registration_init_time'}\n",
      "{'msno', 'registration_date', 'registration_year', 'expiration_month', 'expiration_date', 'song_id', 'registration_month', 'id', 'expiration_year', 'registration_init_time'}\n"
     ]
    }
   ],
   "source": [
    "print(set(df_train.columns) - set(num_cols) - set(one_hot_cols) - set(mul_hot_cols))\n",
    "print(set(df_test.columns) - set(num_cols) - set(one_hot_cols) - set(mul_hot_cols))"
   ]
  },
  {
   "cell_type": "code",
   "execution_count": 33,
   "metadata": {
    "collapsed": true
   },
   "outputs": [],
   "source": [
    "X_trn = sp.sparse.hstack(\n",
    "    [sp.sparse.csr_matrix(df_train[num_cols].values)] + \\\n",
    "    list(one_hot_train.values()) + \\\n",
    "    list(mul_hot_train.values())\n",
    ")\n",
    "y_trn = df_train['target'].values"
   ]
  },
  {
   "cell_type": "code",
   "execution_count": 34,
   "metadata": {
    "collapsed": true
   },
   "outputs": [],
   "source": [
    "X_tst = sp.sparse.hstack(\n",
    "    [sp.sparse.csr_matrix(df_test[num_cols].values)] + \\\n",
    "    list(one_hot_test.values()) + \\\n",
    "    list(mul_hot_test.values())\n",
    ")\n",
    "test_ids = df_test['id'].values"
   ]
  },
  {
   "cell_type": "code",
   "execution_count": 35,
   "metadata": {},
   "outputs": [
    {
     "data": {
      "text/plain": [
       "<7377418x200733 sparse matrix of type '<class 'numpy.float64'>'\n",
       "\twith 155767061 stored elements in COOrdinate format>"
      ]
     },
     "execution_count": 35,
     "metadata": {},
     "output_type": "execute_result"
    }
   ],
   "source": [
    "X_trn"
   ]
  },
  {
   "cell_type": "markdown",
   "metadata": {},
   "source": [
    "# Tuning Models"
   ]
  },
  {
   "cell_type": "code",
   "execution_count": 39,
   "metadata": {
    "collapsed": true
   },
   "outputs": [],
   "source": [
    "from sklearn.model_selection import cross_val_score\n",
    "\n",
    "from sklearn.linear_model import LogisticRegression\n",
    "from sklearn.ensemble import RandomForestClassifier\n",
    "from sklearn.metrics import roc_auc_score"
   ]
  },
  {
   "cell_type": "code",
   "execution_count": 38,
   "metadata": {},
   "outputs": [
    {
     "name": "stdout",
     "output_type": "stream",
     "text": [
      "2017-11-19 22:29:17\n"
     ]
    },
    {
     "ename": "NameError",
     "evalue": "name 'metrics' is not defined",
     "output_type": "error",
     "traceback": [
      "\u001b[1;31m---------------------------------------------------------------------------\u001b[0m",
      "\u001b[1;31mNameError\u001b[0m                                 Traceback (most recent call last)",
      "\u001b[1;32m<ipython-input-38-30118c5d98fe>\u001b[0m in \u001b[0;36m<module>\u001b[1;34m()\u001b[0m\n\u001b[0;32m      3\u001b[0m \u001b[0mclf\u001b[0m\u001b[1;33m.\u001b[0m\u001b[0mfit\u001b[0m\u001b[1;33m(\u001b[0m\u001b[0mX_trn\u001b[0m\u001b[1;33m,\u001b[0m \u001b[0my_trn\u001b[0m\u001b[1;33m)\u001b[0m\u001b[1;33m\u001b[0m\u001b[0m\n\u001b[0;32m      4\u001b[0m \u001b[0my_prd\u001b[0m \u001b[1;33m=\u001b[0m \u001b[0mclf\u001b[0m\u001b[1;33m.\u001b[0m\u001b[0mpredict\u001b[0m\u001b[1;33m(\u001b[0m\u001b[0mX_trn\u001b[0m\u001b[1;33m)\u001b[0m\u001b[1;33m\u001b[0m\u001b[0m\n\u001b[1;32m----> 5\u001b[1;33m \u001b[0mmetrics\u001b[0m\u001b[1;33m.\u001b[0m\u001b[0mroc_auc_score\u001b[0m\u001b[1;33m(\u001b[0m\u001b[0my_trn\u001b[0m\u001b[1;33m,\u001b[0m \u001b[0my_prd\u001b[0m\u001b[1;33m)\u001b[0m\u001b[1;33m\u001b[0m\u001b[0m\n\u001b[0m",
      "\u001b[1;31mNameError\u001b[0m: name 'metrics' is not defined"
     ]
    }
   ],
   "source": [
    "print(time.strftime(\"%Y-%m-%d %H:%M:%S\"))\n",
    "clf = LogisticRegression(n_jobs=5)\n",
    "clf.fit(X_trn, y_trn)\n",
    "y_prd = clf.predict(X_trn)\n"
   ]
  },
  {
   "cell_type": "code",
   "execution_count": 40,
   "metadata": {},
   "outputs": [
    {
     "data": {
      "text/plain": [
       "0.56114016792032018"
      ]
     },
     "execution_count": 40,
     "metadata": {},
     "output_type": "execute_result"
    }
   ],
   "source": [
    "roc_auc_score(y_trn, y_prd)"
   ]
  },
  {
   "cell_type": "code",
   "execution_count": 36,
   "metadata": {},
   "outputs": [
    {
     "name": "stdout",
     "output_type": "stream",
     "text": [
      "2017-11-17 20:16:09\n",
      "[ 0.71488343  0.58852425  0.58051265  0.63095915  0.61026334]\n",
      "2017-11-17 20:34:27\n"
     ]
    }
   ],
   "source": [
    "print(time.strftime(\"%Y-%m-%d %H:%M:%S\"))\n",
    "clf = LogisticRegression(n_jobs=5)\n",
    "scores = cross_val_score(clf, X_trn, y_trn, cv=5, scoring='roc_auc')\n",
    "print(scores)\n",
    "print(np.mean(scores))\n",
    "print(time.strftime(\"%Y-%m-%d %H:%M:%S\"))"
   ]
  },
  {
   "cell_type": "code",
   "execution_count": 42,
   "metadata": {},
   "outputs": [
    {
     "data": {
      "text/plain": [
       "0.62502856399999995"
      ]
     },
     "execution_count": 42,
     "metadata": {},
     "output_type": "execute_result"
    }
   ],
   "source": [
    "np.mean([ 0.71488343 , 0.58852425 , 0.58051265 , 0.63095915 , 0.61026334])"
   ]
  },
  {
   "cell_type": "code",
   "execution_count": 37,
   "metadata": {},
   "outputs": [
    {
     "name": "stdout",
     "output_type": "stream",
     "text": [
      "2017-11-17 20:34:27\n",
      "[ 0.69326307  0.67312315  0.61006419  0.6092595   0.58454601]\n",
      "0.634051183373\n",
      "2017-11-17 20:39:09\n"
     ]
    }
   ],
   "source": [
    "print(time.strftime(\"%Y-%m-%d %H:%M:%S\"))\n",
    "clf = RandomForestClassifier(n_jobs=5, max_depth=8)\n",
    "scores = cross_val_score(clf, X_trn, y_trn, cv=5, scoring='roc_auc')\n",
    "print(scores)\n",
    "print(np.mean(scores))\n",
    "print(time.strftime(\"%Y-%m-%d %H:%M:%S\"))"
   ]
  },
  {
   "cell_type": "markdown",
   "metadata": {},
   "source": [
    "# Producing Results"
   ]
  },
  {
   "cell_type": "code",
   "execution_count": 39,
   "metadata": {
    "collapsed": true
   },
   "outputs": [],
   "source": [
    "# Models and Public Leaderboard score\n",
    "# clf = LogisticRegression(n_jobs=5) # 0.54230\n",
    "clf = RandomForestClassifier(n_jobs=5, max_depth=8) # 0.53213\n",
    "\n",
    "clf.fit(X_trn, y_trn)\n",
    "y_pred = clf.predict(X_tst)\n",
    "result_df = pd.DataFrame()\n",
    "result_df['id'] = test_ids\n",
    "result_df['target'] = y_pred\n",
    "timestamp = time.strftime(\"%Y-%m-%d_%H_%M_%S\")\n",
    "filename = '../result/' + timestamp + '.csv.gz'\n",
    "result_df.to_csv(filename, compression = 'gzip', index=False, float_format = '%.5f')"
   ]
  },
  {
   "cell_type": "markdown",
   "metadata": {},
   "source": [
    "# Saving and loading features"
   ]
  },
  {
   "cell_type": "code",
   "execution_count": 263,
   "metadata": {
    "collapsed": true
   },
   "outputs": [],
   "source": [
    "# Save\n",
    "path = '../tmp/v1/'\n",
    "sp.sparse.save_npz(path + 'X_trn.npz', X_trn)\n",
    "sp.sparse.save_npz(path + 'X_tst.npz', X_tst)\n",
    "np.save(file=path + 'y_trn.npy', arr=y_trn)"
   ]
  },
  {
   "cell_type": "code",
   "execution_count": null,
   "metadata": {
    "collapsed": true
   },
   "outputs": [],
   "source": [
    "# Load\n",
    "path = '../tmp/v1/'\n",
    "X_trn = sp.sparse.load_npz(path + 'X_trn.npz')\n",
    "X_tst = sp.sparse.load_npz(path + 'X_tst.npz')\n",
    "y_trn = np.load(path + 'y_trn.npy')"
   ]
  },
  {
   "cell_type": "markdown",
   "metadata": {},
   "source": [
    "# Experiments on commands"
   ]
  },
  {
   "cell_type": "code",
   "execution_count": null,
   "metadata": {
    "collapsed": true
   },
   "outputs": [],
   "source": []
  }
 ],
 "metadata": {
  "kernelspec": {
   "display_name": "Python 3",
   "language": "python",
   "name": "python3"
  },
  "language_info": {
   "codemirror_mode": {
    "name": "ipython",
    "version": 3
   },
   "file_extension": ".py",
   "mimetype": "text/x-python",
   "name": "python",
   "nbconvert_exporter": "python",
   "pygments_lexer": "ipython3",
   "version": "3.6.1"
  },
  "widgets": {
   "application/vnd.jupyter.widget-state+json": {
    "state": {},
    "version_major": 1,
    "version_minor": 0
   }
  }
 },
 "nbformat": 4,
 "nbformat_minor": 2
}
