{
 "cells": [
  {
   "cell_type": "markdown",
   "metadata": {},
   "source": [
    "# 1. Import packages"
   ]
  },
  {
   "cell_type": "code",
   "execution_count": 1,
   "metadata": {},
   "outputs": [
    {
     "name": "stderr",
     "output_type": "stream",
     "text": [
      "Using TensorFlow backend.\n"
     ]
    }
   ],
   "source": [
    "########################################\n",
    "## import packages\n",
    "########################################\n",
    "import time\n",
    "import datetime\n",
    "import numpy as np\n",
    "import pandas as pd\n",
    "\n",
    "from sklearn.preprocessing import LabelEncoder\n",
    "from sklearn.metrics import roc_auc_score\n",
    "from sklearn.model_selection import train_test_split\n",
    "\n",
    "from keras.models import Model\n",
    "from keras.layers import Dense, Input, Embedding, Dropout, Activation, Reshape\n",
    "from keras.layers.merge import concatenate, dot\n",
    "from keras.layers.normalization import BatchNormalization\n",
    "from keras.callbacks import EarlyStopping, ModelCheckpoint\n",
    "from keras.regularizers import l2\n",
    "from keras.initializers import RandomUniform\n",
    "from keras.optimizers import RMSprop, Adam, SGD"
   ]
  },
  {
   "cell_type": "code",
   "execution_count": 2,
   "metadata": {},
   "outputs": [
    {
     "name": "stdout",
     "output_type": "stream",
     "text": [
      "2017-12-08 11:44:17\n"
     ]
    }
   ],
   "source": [
    "print(time.strftime(\"%Y-%m-%d %H:%M:%S\"))"
   ]
  },
  {
   "cell_type": "code",
   "execution_count": 63,
   "metadata": {
    "collapsed": true
   },
   "outputs": [],
   "source": [
    "def _CAT_NUM():\n",
    "    global CATEGORICAL, NUMERICAL\n",
    "    CATEGORICAL = [\n",
    "        'msno', 'song_id', 'source_system_tab', 'source_screen_name', 'source_type', \n",
    "        'genre_ids', 'artist_name', 'composer', 'lyricist', 'language', \n",
    "        'city', 'gender', 'registered_via',\n",
    "    ]\n",
    "    UNDECIDED = [\n",
    "        'song_year',\n",
    "        'registration_year', 'registration_month', 'registration_day', 'expiration_year', 'expiration_month', 'expiration_day'\n",
    "    ]\n",
    "    NUMERICAL = [\n",
    "        'song_length', 'age', 'weird_age', 'validate_days',\n",
    "        'count_song_played', 'count_artist_played', \n",
    "        'genre_count', 'lyricist_count', 'composer_count', 'artist_count', \n",
    "        'is_featured', 'artist_composer', 'artist_composer_lyricist', 'song_lang_boolean', 'smaller_song'\n",
    "    ]\n",
    "    NUMERICAL += UNDECIDED\n",
    "\n",
    "def _check_CAT_NUM():\n",
    "    print(len(df_train.columns),\n",
    "          len(set(CATEGORICAL).union(NUMERICAL)),\n",
    "          len(set(CATEGORICAL).intersection(NUMERICAL)))\n",
    "\n",
    "\n",
    "_CAT_NUM()"
   ]
  },
  {
   "cell_type": "markdown",
   "metadata": {},
   "source": [
    "# 2. Load data and feature engineering"
   ]
  },
  {
   "cell_type": "code",
   "execution_count": 4,
   "metadata": {
    "collapsed": true
   },
   "outputs": [],
   "source": [
    "input_dir = '../input/'\n",
    "df_train = pd.read_csv(input_dir + \"train.csv\")\n",
    "df_test  = pd.read_csv(input_dir + 'test.csv')\n",
    "df_songs = pd.read_csv(input_dir + 'songs.csv')\n",
    "df_song_extra = pd.read_csv(input_dir + \"song_extra_info.csv\")\n",
    "df_members = pd.read_csv(input_dir + \"members.csv\", parse_dates=[\"registration_init_time\",\"expiration_date\"])"
   ]
  },
  {
   "cell_type": "code",
   "execution_count": 5,
   "metadata": {},
   "outputs": [
    {
     "data": {
      "text/plain": [
       "Index(['msno', 'song_id', 'source_system_tab', 'source_screen_name',\n",
       "       'source_type', 'target'],\n",
       "      dtype='object')"
      ]
     },
     "execution_count": 5,
     "metadata": {},
     "output_type": "execute_result"
    }
   ],
   "source": [
    "df_train.columns"
   ]
  },
  {
   "cell_type": "markdown",
   "metadata": {},
   "source": [
    "## 2.0 Simple member related and song related"
   ]
  },
  {
   "cell_type": "code",
   "execution_count": 6,
   "metadata": {
    "collapsed": true
   },
   "outputs": [],
   "source": [
    "# member related\n",
    "df_members.rename(columns={'bd': 'age'}, inplace=True)\n",
    "df_members.loc[df_members['age'] < 5, 'age'] = 0\n",
    "df_members.loc[df_members['age'] >= 80, 'age'] = 0\n",
    "df_members['weird_age'] = 0\n",
    "df_members.loc[df_members['age'] == 0, 'weird_age'] = 1\n",
    "df_members['validate_days'] = (df_members['expiration_date'] - df_members['registration_init_time']).dt.days.astype(int)\n",
    "\n",
    "df_members['registration_year'] = df_members['registration_init_time'].dt.year.astype(int)\n",
    "df_members['registration_month'] = df_members['registration_init_time'].dt.month.astype(int)\n",
    "df_members['registration_day'] = df_members['registration_init_time'].dt.day.astype(int)\n",
    "\n",
    "df_members['expiration_year'] = df_members['expiration_date'].dt.year.astype(int)\n",
    "df_members['expiration_month'] = df_members['expiration_date'].dt.month.astype(int)\n",
    "df_members['expiration_day'] = df_members['expiration_date'].dt.day.astype(int)\n",
    "\n",
    "df_members.drop(['registration_init_time', 'expiration_date'], axis=1, inplace=True)"
   ]
  },
  {
   "cell_type": "code",
   "execution_count": 7,
   "metadata": {
    "collapsed": true
   },
   "outputs": [],
   "source": [
    "# song related\n",
    "def isrc_to_year(isrc):\n",
    "    if type(isrc) == str:\n",
    "        if int(isrc[5:7]) > 17:\n",
    "            return 1900 + int(isrc[5:7])\n",
    "        else:\n",
    "            return 2000 + int(isrc[5:7])\n",
    "    else:\n",
    "        return np.nan\n",
    "\n",
    "df_song_extra['song_year'] = df_song_extra['isrc'].apply(isrc_to_year)\n",
    "df_song_extra.drop(['isrc', 'name'], axis = 1, inplace = True)\n",
    "\n",
    "# 1000 <=> 1s\n",
    "df_songs['song_length'] /= 1000.0\n",
    "df_songs.loc[df_songs['song_length'] > 1800, 'song_length'] = 1800"
   ]
  },
  {
   "cell_type": "markdown",
   "metadata": {},
   "source": [
    "## 2.1 Join"
   ]
  },
  {
   "cell_type": "code",
   "execution_count": 8,
   "metadata": {
    "collapsed": true
   },
   "outputs": [],
   "source": [
    "# left join train and song based on song_id\n",
    "# left join train and members based on msno(user id)\n",
    "# left join train and song_extra based on song_id\n",
    "df_train = df_train.merge(df_songs, how=\"left\", on=\"song_id\")\n",
    "df_train = df_train.merge(df_members, how=\"left\", on=\"msno\")\n",
    "df_train = df_train.merge(df_song_extra, how='left', on='song_id')\n",
    "\n",
    "df_test  = df_test.merge(df_songs, how=\"left\", on=\"song_id\")\n",
    "df_test  = df_test.merge(df_members, how=\"left\", on=\"msno\")\n",
    "df_test = df_test.merge(df_song_extra, how='left', on='song_id')"
   ]
  },
  {
   "cell_type": "code",
   "execution_count": 9,
   "metadata": {
    "collapsed": true
   },
   "outputs": [],
   "source": [
    "# for col in ['registered_via', 'city', 'language']:\n",
    "#     df_train[col] = df_train[col].astype(str)\n",
    "#     df_test[col] = df_test[col].astype(str)"
   ]
  },
  {
   "cell_type": "markdown",
   "metadata": {},
   "source": [
    "## 2.2 Missing value"
   ]
  },
  {
   "cell_type": "code",
   "execution_count": 10,
   "metadata": {
    "collapsed": true
   },
   "outputs": [],
   "source": [
    "UNKNOWN = 'Unknown'\n",
    "col_fill_with_unknown = [\n",
    "    'source_system_tab', 'source_screen_name', 'source_type', \n",
    "    'gender', \n",
    "    'genre_ids', 'artist_name', 'composer', 'lyricist', 'language'\n",
    "]\n",
    "for col in col_fill_with_unknown:\n",
    "    df_train[col].fillna(value=UNKNOWN, inplace=True)\n",
    "    df_test[col].fillna(value=UNKNOWN, inplace=True)\n",
    "\n",
    "df_train['song_length'].fillna(value=230,inplace=True)\n",
    "df_test['song_length'].fillna(value=230,inplace=True)\n",
    "\n",
    "fill_in_value = df_train['song_year'].median()\n",
    "df_train['song_year'].fillna(value=fill_in_value, inplace=True)\n",
    "df_test['song_year'].fillna(value=fill_in_value, inplace=True)"
   ]
  },
  {
   "cell_type": "markdown",
   "metadata": {},
   "source": [
    "## 2.3 Count and binary features"
   ]
  },
  {
   "cell_type": "code",
   "execution_count": 11,
   "metadata": {
    "collapsed": true
   },
   "outputs": [],
   "source": [
    "def _count(x):\n",
    "    if x == UNKNOWN:\n",
    "        return 0\n",
    "    else:\n",
    "        return sum(map(x.count, ['|', '/', '\\\\', ';', '、', ','])) + 1\n",
    "\n",
    "df_train['genre_count'] = df_train['genre_ids'].apply(_count).astype(int)\n",
    "df_test['genre_count'] = df_test['genre_ids'].apply(_count).astype(int)\n",
    "\n",
    "df_train['lyricist_count'] = df_train['lyricist'].apply(_count).astype(int)\n",
    "df_test['lyricist_count'] = df_test['lyricist'].apply(_count).astype(int)\n",
    "\n",
    "df_train['composer_count'] = df_train['composer'].apply(_count).astype(int)\n",
    "df_test['composer_count'] = df_test['composer'].apply(_count).astype(int)\n",
    "\n",
    "def is_featured(x):\n",
    "    if 'feat' in str(x) :\n",
    "        return 1\n",
    "    return 0\n",
    "df_train['is_featured'] = df_train['artist_name'].apply(is_featured).astype(np.int8)\n",
    "df_test['is_featured'] = df_test['artist_name'].apply(is_featured).astype(np.int8)\n",
    "\n",
    "def artist_count(x):\n",
    "    if x == UNKNOWN:\n",
    "        return 0\n",
    "    else:\n",
    "        return x.count('and') + x.count(',') + x.count('feat') + x.count('&') + 1\n",
    "df_train['artist_count'] = df_train['artist_name'].apply(artist_count).astype(np.int8)\n",
    "df_test['artist_count'] = df_test['artist_name'].apply(artist_count).astype(np.int8)\n",
    "\n",
    "# if artist is same as composer\n",
    "df_train['artist_composer'] = (df_train['artist_name'] == df_train['composer']).astype(np.int8)\n",
    "df_test['artist_composer'] = (df_test['artist_name'] == df_test['composer']).astype(np.int8)\n",
    "\n",
    "# if artist, lyricist and composer are all three same\n",
    "df_train['artist_composer_lyricist'] = ((df_train['artist_name'] == df_train['composer']) \n",
    "                                        & (df_train['artist_name'] == df_train['lyricist']) \n",
    "                                        & (df_train['composer'] == df_train['lyricist'])).astype(np.int8)\n",
    "df_test['artist_composer_lyricist'] = ((df_test['artist_name'] == df_test['composer']) \n",
    "                                       & (df_test['artist_name'] == df_test['lyricist']) \n",
    "                                       & (df_test['composer'] == df_test['lyricist'])).astype(np.int8)\n",
    "\n",
    "# is song language 17 or 45. \n",
    "def song_lang_boolean(x):\n",
    "    if '17.0' in str(x) or '45.0' in str(x):\n",
    "        return 1\n",
    "    return 0\n",
    "df_train['song_lang_boolean'] = df_train['language'].apply(song_lang_boolean).astype(np.int8)\n",
    "df_test['song_lang_boolean'] = df_test['language'].apply(song_lang_boolean).astype(np.int8)\n",
    "\n",
    "# smaller song\n",
    "_mean_song_length = np.mean(df_train['song_length'])\n",
    "def smaller_song(x):\n",
    "    if x < _mean_song_length:\n",
    "        return 1\n",
    "    return 0\n",
    "df_train['smaller_song'] = df_train['song_length'].apply(smaller_song).astype(np.int8)\n",
    "df_test['smaller_song'] = df_test['song_length'].apply(smaller_song).astype(np.int8)"
   ]
  },
  {
   "cell_type": "markdown",
   "metadata": {},
   "source": [
    "## 2.4 Historical statistical features"
   ]
  },
  {
   "cell_type": "code",
   "execution_count": 12,
   "metadata": {
    "collapsed": true
   },
   "outputs": [],
   "source": [
    "# number of times a song has been played before\n",
    "_dict_count_song_played_train = {k: v for k, v in df_train['song_id'].value_counts().iteritems()}\n",
    "_dict_count_song_played_test = {k: v for k, v in df_test['song_id'].value_counts().iteritems()}\n",
    "def count_song_played(x):\n",
    "    try:\n",
    "        return _dict_count_song_played_train[x]\n",
    "    except KeyError:\n",
    "        try:\n",
    "            return _dict_count_song_played_test[x]\n",
    "        except KeyError:\n",
    "            return 0\n",
    "df_train['count_song_played'] = df_train['song_id'].apply(count_song_played).astype(np.int64)\n",
    "df_test['count_song_played'] = df_test['song_id'].apply(count_song_played).astype(np.int64)\n",
    "del _dict_count_song_played_test\n",
    "del _dict_count_song_played_train\n",
    "\n",
    "# number of times the artist has been played\n",
    "_dict_count_artist_played_train = {k: v for k, v in df_train['artist_name'].value_counts().iteritems()}\n",
    "_dict_count_artist_played_test = {k: v for k, v in df_test['artist_name'].value_counts().iteritems()}\n",
    "def count_artist_played(x):\n",
    "    try:\n",
    "        return _dict_count_artist_played_train[x]\n",
    "    except KeyError:\n",
    "        try:\n",
    "            return _dict_count_artist_played_test[x]\n",
    "        except KeyError:\n",
    "            return 0\n",
    "df_train['count_artist_played'] = df_train['artist_name'].apply(count_artist_played).astype(np.int64)\n",
    "df_test['count_artist_played'] = df_test['artist_name'].apply(count_artist_played).astype(np.int64)\n",
    "del _dict_count_artist_played_train\n",
    "del _dict_count_artist_played_test"
   ]
  },
  {
   "cell_type": "markdown",
   "metadata": {},
   "source": [
    "# 2.5 standarize numerical"
   ]
  },
  {
   "cell_type": "code",
   "execution_count": 13,
   "metadata": {
    "scrolled": true
   },
   "outputs": [
    {
     "name": "stdout",
     "output_type": "stream",
     "text": [
      "song_length\t244.9424990054791\t59.95896238525197\n",
      "age\t17.2371374375154\t15.560832070689322\n",
      "weird_age\t0.3997230467353212\t0.4898413341675067\n",
      "validate_days\t1627.9613096343464\t1128.6731207827263\n",
      "count_song_played\t1640.9239731298944\t2576.840783303741\n",
      "count_artist_played\t39826.780881332736\t69878.12930279176\n",
      "genre_count\t1.0373533125003898\t0.29489515136292566\n",
      "lyricist_count\t0.869041716221041\t1.2176895831574315\n",
      "composer_count\t1.3887604037076386\t1.6258642833509023\n",
      "artist_count\t1.03012286955\t0.190183271661\n",
      "is_featured\t0.00206589893646\t0.0454051869068\n",
      "artist_composer\t0.0302623492393\t0.171308316954\n",
      "artist_composer_lyricist\t0.0170903966672\t0.129608313811\n",
      "song_lang_boolean\t0.0335527958427\t0.180075000302\n",
      "smaller_song\t0.525266970097\t0.499361172121\n",
      "song_year\t2011.447105748922\t6.458415090813096\n",
      "registration_year\t2012.7405063668616\t3.01886048129776\n",
      "registration_month\t6.8323058284077165\t3.7007223813226187\n",
      "registration_day\t15.815322786373226\t8.7685480878986\n",
      "expiration_year\t2017.071606895529\t0.3982535484067784\n",
      "expiration_month\t8.341741514443129\t2.5113602605637504\n",
      "expiration_day\t15.623375007353522\t9.107233920245156\n"
     ]
    }
   ],
   "source": [
    "# Normalize numerical data\n",
    "for col in NUMERICAL:\n",
    "    mean = np.mean(df_train[col])\n",
    "    stdd = np.std(df_train[col])\n",
    "    df_train[col] = (df_train[col] - mean) / stdd\n",
    "    df_test[col]  = (df_test[col] - mean) / stdd\n",
    "    print(col, mean, stdd, sep='\\t')"
   ]
  },
  {
   "cell_type": "markdown",
   "metadata": {},
   "source": [
    "# 3. Preparing Data for keras\n",
    "decide features' data types and encode categorical features"
   ]
  },
  {
   "cell_type": "code",
   "execution_count": 14,
   "metadata": {},
   "outputs": [
    {
     "name": "stdout",
     "output_type": "stream",
     "text": [
      "2017-12-08 11:46:26\n",
      "msno...song_id...source_system_tab...source_screen_name...source_type...genre_ids...artist_name...composer...lyricist...language...city...gender...registered_via...2017-12-08 11:52:42\n"
     ]
    }
   ],
   "source": [
    "# it would take <10min\n",
    "print(time.strftime(\"%Y-%m-%d %H:%M:%S\"))\n",
    "# when i will use the information of these again? -- when i embed, i would like to use their size\n",
    "encoder_dict = dict()\n",
    "for col in CATEGORICAL:\n",
    "    print(col, end='...')\n",
    "    df_train[col] = df_train[col].astype(str)\n",
    "    df_test[col]  = df_test[col].astype(str)\n",
    "    encoder = LabelEncoder()\n",
    "    encoder.fit(df_train[col].append(df_test[col]))\n",
    "    encoder_dict[col] = encoder\n",
    "    df_train[col] = encoder.transform(df_train[col])\n",
    "    df_test[col]  = encoder.transform(df_test[col])\n",
    "print(time.strftime(\"%Y-%m-%d %H:%M:%S\"))"
   ]
  },
  {
   "cell_type": "code",
   "execution_count": 15,
   "metadata": {
    "collapsed": true
   },
   "outputs": [],
   "source": [
    "# save\n",
    "df_train.to_csv('../output/df_train.csv')\n",
    "df_test.to_csv('../output/df_test.csv')\n",
    "\n",
    "# # load\n",
    "# df_train = pd.read_csv('../output/df_train.csv')\n",
    "# df_test  = pd.read_csv('../output/df_test.csv')"
   ]
  },
  {
   "cell_type": "markdown",
   "metadata": {},
   "source": [
    "## 3.1 Split the data"
   ]
  },
  {
   "cell_type": "code",
   "execution_count": 17,
   "metadata": {
    "collapsed": true
   },
   "outputs": [],
   "source": [
    "np.random.seed(42)\n",
    "perm = np.random.permutation(len(df_train))\n",
    "# perm = list(range(len(df_train)))\n",
    "\n",
    "trn_cnt = int(len(df_train) * 0.9)\n",
    "X_trn = df_train.loc[perm[:trn_cnt], :]\n",
    "# X_trn = df_train\n",
    "X_val = df_train.loc[perm[trn_cnt:], :]\n",
    "X_last = df_train[trn_cnt:]"
   ]
  },
  {
   "cell_type": "markdown",
   "metadata": {},
   "source": [
    "# 4 Train the memorization DNN"
   ]
  },
  {
   "cell_type": "code",
   "execution_count": 18,
   "metadata": {
    "collapsed": true
   },
   "outputs": [],
   "source": [
    "########################################\n",
    "## define the model\n",
    "########################################\n",
    "def mem_model():\n",
    "    user_embeddings = Embedding(\n",
    "        input_dim = len(encoder_dict['msno'].classes_),\n",
    "        output_dim = 64,\n",
    "        embeddings_initializer = RandomUniform(minval=-0.1, maxval=0.1),\n",
    "        embeddings_regularizer = l2(1e-4),\n",
    "        input_length = 1,\n",
    "        name = 'user_embed',\n",
    "        trainable=True)\n",
    "    song_embeddings = Embedding(\n",
    "        input_dim = len(encoder_dict['song_id'].classes_),\n",
    "        output_dim = 64,\n",
    "        embeddings_initializer=RandomUniform(minval=-0.1, maxval=0.1),\n",
    "        embeddings_regularizer=l2(1e-4),\n",
    "        input_length=1,\n",
    "        name = 'song_embed',\n",
    "        trainable=True)\n",
    "\n",
    "    uid_input = Input(shape=(1,), dtype='int32')\n",
    "    embedded_usr = user_embeddings(uid_input)\n",
    "    embedded_usr = Reshape((64,))(embedded_usr)\n",
    "\n",
    "    sid_input = Input(shape=(1,), dtype='int32')\n",
    "    embedded_song = song_embeddings(sid_input)\n",
    "    embedded_song = Reshape((64,))(embedded_song)\n",
    "\n",
    "    preds = dot([embedded_usr, embedded_song], axes=1)\n",
    "    preds = concatenate([embedded_usr, embedded_song, preds], name='mem_latent')\n",
    "    \n",
    "    preds = Dense(128, activation='relu', name='mem_dense1')(preds)\n",
    "    preds = Dropout(0.5, name='mem_dropout1')(preds)\n",
    "    \n",
    "    preds = Dense(1, activation='sigmoid', name='mem_dense2')(preds)\n",
    "\n",
    "    model = Model(inputs=[uid_input, sid_input], outputs=preds)\n",
    "    \n",
    "    opt = RMSprop(lr=1e-3)\n",
    "    model.compile(loss='binary_crossentropy', optimizer=opt, metrics=['acc'])\n",
    "\n",
    "    return model"
   ]
  },
  {
   "cell_type": "code",
   "execution_count": 19,
   "metadata": {
    "scrolled": true
   },
   "outputs": [
    {
     "name": "stdout",
     "output_type": "stream",
     "text": [
      "__________________________________________________________________________________________________\n",
      "Layer (type)                    Output Shape         Param #     Connected to                     \n",
      "==================================================================================================\n",
      "input_1 (InputLayer)            (None, 1)            0                                            \n",
      "__________________________________________________________________________________________________\n",
      "input_2 (InputLayer)            (None, 1)            0                                            \n",
      "__________________________________________________________________________________________________\n",
      "user_embed (Embedding)          (None, 1, 64)        2201792     input_1[0][0]                    \n",
      "__________________________________________________________________________________________________\n",
      "song_embed (Embedding)          (None, 1, 64)        26869696    input_2[0][0]                    \n",
      "__________________________________________________________________________________________________\n",
      "reshape_1 (Reshape)             (None, 64)           0           user_embed[0][0]                 \n",
      "__________________________________________________________________________________________________\n",
      "reshape_2 (Reshape)             (None, 64)           0           song_embed[0][0]                 \n",
      "__________________________________________________________________________________________________\n",
      "dot_1 (Dot)                     (None, 1)            0           reshape_1[0][0]                  \n",
      "                                                                 reshape_2[0][0]                  \n",
      "__________________________________________________________________________________________________\n",
      "mem_latent (Concatenate)        (None, 129)          0           reshape_1[0][0]                  \n",
      "                                                                 reshape_2[0][0]                  \n",
      "                                                                 dot_1[0][0]                      \n",
      "__________________________________________________________________________________________________\n",
      "mem_dense1 (Dense)              (None, 128)          16640       mem_latent[0][0]                 \n",
      "__________________________________________________________________________________________________\n",
      "mem_dropout1 (Dropout)          (None, 128)          0           mem_dense1[0][0]                 \n",
      "__________________________________________________________________________________________________\n",
      "mem_dense2 (Dense)              (None, 1)            129         mem_dropout1[0][0]               \n",
      "==================================================================================================\n",
      "Total params: 29,088,257\n",
      "Trainable params: 29,088,257\n",
      "Non-trainable params: 0\n",
      "__________________________________________________________________________________________________\n",
      "Train on 6639676 samples, validate on 737742 samples\n",
      "Epoch 1/30\n",
      "6639676/6639676 [==============================] - 140s 21us/step - loss: 1.6839 - acc: 0.6396 - val_loss: 0.6340 - val_acc: 0.6627\n",
      "Epoch 2/30\n",
      "6639676/6639676 [==============================] - 134s 20us/step - loss: 0.6260 - acc: 0.6675 - val_loss: 0.6202 - val_acc: 0.6691\n",
      "Epoch 3/30\n",
      "6639676/6639676 [==============================] - 131s 20us/step - loss: 0.6178 - acc: 0.6718 - val_loss: 0.6156 - val_acc: 0.6714\n",
      "Epoch 4/30\n",
      "6639676/6639676 [==============================] - 124s 19us/step - loss: 0.6137 - acc: 0.6749 - val_loss: 0.6124 - val_acc: 0.6747\n",
      "Epoch 5/30\n",
      "6639676/6639676 [==============================] - 124s 19us/step - loss: 0.6104 - acc: 0.6790 - val_loss: 0.6091 - val_acc: 0.6793\n",
      "Epoch 6/30\n",
      "6639676/6639676 [==============================] - 124s 19us/step - loss: 0.6078 - acc: 0.6827 - val_loss: 0.6073 - val_acc: 0.6820\n",
      "Epoch 7/30\n",
      "6639676/6639676 [==============================] - 124s 19us/step - loss: 0.6058 - acc: 0.6857 - val_loss: 0.6057 - val_acc: 0.6840\n",
      "Epoch 8/30\n",
      "6639676/6639676 [==============================] - 126s 19us/step - loss: 0.6039 - acc: 0.6882 - val_loss: 0.6041 - val_acc: 0.6865\n",
      "Epoch 9/30\n",
      "6639676/6639676 [==============================] - 126s 19us/step - loss: 0.6024 - acc: 0.6911 - val_loss: 0.6031 - val_acc: 0.6886\n",
      "Epoch 10/30\n",
      "6639676/6639676 [==============================] - 126s 19us/step - loss: 0.6011 - acc: 0.6934 - val_loss: 0.6021 - val_acc: 0.6909\n",
      "Epoch 11/30\n",
      "6639676/6639676 [==============================] - 127s 19us/step - loss: 0.5998 - acc: 0.6960 - val_loss: 0.6012 - val_acc: 0.6929\n",
      "Epoch 12/30\n",
      "6639676/6639676 [==============================] - 126s 19us/step - loss: 0.5981 - acc: 0.6995 - val_loss: 0.6001 - val_acc: 0.6961\n",
      "Epoch 13/30\n",
      "6639676/6639676 [==============================] - 123s 19us/step - loss: 0.5954 - acc: 0.7046 - val_loss: 0.5995 - val_acc: 0.7002\n",
      "Epoch 14/30\n",
      "6639676/6639676 [==============================] - 122s 18us/step - loss: 0.5913 - acc: 0.7117 - val_loss: 0.6000 - val_acc: 0.7036\n",
      "Epoch 15/30\n",
      "6639676/6639676 [==============================] - 122s 18us/step - loss: 0.5853 - acc: 0.7213 - val_loss: 0.6029 - val_acc: 0.7075\n",
      "Epoch 16/30\n",
      "6639676/6639676 [==============================] - 123s 18us/step - loss: 0.5767 - acc: 0.7344 - val_loss: 0.6114 - val_acc: 0.7084\n",
      "Epoch 17/30\n",
      "6639676/6639676 [==============================] - 121s 18us/step - loss: 0.5664 - acc: 0.7490 - val_loss: 0.6240 - val_acc: 0.7075\n",
      "Epoch 18/30\n",
      "6639676/6639676 [==============================] - 119s 18us/step - loss: 0.5556 - acc: 0.7635 - val_loss: 0.6398 - val_acc: 0.7048\n",
      "Epoch 19/30\n",
      "6639676/6639676 [==============================] - 119s 18us/step - loss: 0.5455 - acc: 0.7766 - val_loss: 0.6543 - val_acc: 0.7019\n",
      "Epoch 20/30\n",
      "6639676/6639676 [==============================] - 119s 18us/step - loss: 0.5365 - acc: 0.7874 - val_loss: 0.6708 - val_acc: 0.6991\n",
      "Epoch 21/30\n",
      "6639676/6639676 [==============================] - 119s 18us/step - loss: 0.5285 - acc: 0.7965 - val_loss: 0.6838 - val_acc: 0.6977\n"
     ]
    }
   ],
   "source": [
    "########################################\n",
    "## train the model\n",
    "########################################\n",
    "   \n",
    "mem = mem_model()\n",
    "early_stopping = EarlyStopping(monitor='val_acc', patience=5)\n",
    "mem_path = '../model/keras/mem_model.h5'\n",
    "model_checkpoint = ModelCheckpoint(mem_path, save_best_only=True, \\\n",
    "        save_weights_only=True)\n",
    "\n",
    "# hist = model.fit([uid_trn, sid_trn], target_trn, validation_data=([uid_val, sid_val], \\\n",
    "#         target_val), epochs=100, batch_size=32768, shuffle=True, \\\n",
    "#         callbacks=[early_stopping, model_checkpoint])\n",
    "mem.summary()\n",
    "hist = mem.fit(\n",
    "    [X_trn['msno'], X_trn['song_id']], X_trn['target'],\n",
    "    validation_data=([X_val['msno'], X_val['song_id']], X_val['target']), \n",
    "    epochs=30, batch_size=32768, shuffle=True,\n",
    "    callbacks=[early_stopping, model_checkpoint]\n",
    ")\n",
    "mem.load_weights(mem_path)"
   ]
  },
  {
   "cell_type": "markdown",
   "metadata": {},
   "source": [
    "## Produce memorization prediction"
   ]
  },
  {
   "cell_type": "code",
   "execution_count": 86,
   "metadata": {},
   "outputs": [
    {
     "name": "stdout",
     "output_type": "stream",
     "text": [
      "0.77265224285\n",
      "0.774206546776\n",
      "2556790/2556790 [==============================] - 3s 1us/step\n"
     ]
    }
   ],
   "source": [
    "def mem_validate(model, X):\n",
    "    preds_val = model.predict([X['msno'], X['song_id']], batch_size=32768)\n",
    "    val_auc = roc_auc_score(X['target'], preds_val)\n",
    "    print(val_auc)\n",
    "    return val_auc\n",
    "\n",
    "def mem_produce(model, val_auc):\n",
    "    preds_test = mem.predict([df_test['msno'], df_test['song_id']], batch_size=32768, verbose=1)\n",
    "    sub = pd.DataFrame({'id': df_test['id'], 'target': preds_test.ravel()})\n",
    "    sub.to_csv('../result/sub_' + time.strftime(\"%Y-%m-%d_%H_%M_%S\") + '_%.5f.csv.gz' %(val_auc), \n",
    "               compression = 'gzip', index=False)\n",
    "\n",
    "val_auc = mem_validate(mem, X_val)\n",
    "mem_validate(mem, X_last)\n",
    "mem_produce(mem, val_auc)"
   ]
  },
  {
   "cell_type": "code",
   "execution_count": 17,
   "metadata": {},
   "outputs": [
    {
     "name": "stdout",
     "output_type": "stream",
     "text": [
      "0.772571264217\n"
     ]
    }
   ],
   "source": [
    "# preds_val = model.predict([uid_val, sid_val], batch_size=32768)\n",
    "# val_auc = roc_auc_score(target_val, preds_val)\n",
    "# print(val_auc)"
   ]
  },
  {
   "cell_type": "code",
   "execution_count": 18,
   "metadata": {},
   "outputs": [
    {
     "name": "stdout",
     "output_type": "stream",
     "text": [
      "0.70042945711\n"
     ]
    }
   ],
   "source": [
    "# preds_val = model.predict([uid_val, sid_val], batch_size=32768)\n",
    "# preds_val = preds_val >= 0.5\n",
    "# val_auc = roc_auc_score(target_val, preds_val)\n",
    "# print(val_auc)"
   ]
  },
  {
   "cell_type": "markdown",
   "metadata": {},
   "source": [
    "# 5. Train generalization DNN\n",
    "to reuse the model layers, use code like `model.layers[0].get_weights()`"
   ]
  },
  {
   "cell_type": "code",
   "execution_count": 87,
   "metadata": {
    "collapsed": true
   },
   "outputs": [],
   "source": [
    "mem.load_weights(mem_path)"
   ]
  },
  {
   "cell_type": "code",
   "execution_count": 65,
   "metadata": {},
   "outputs": [
    {
     "data": {
      "text/plain": [
       "['source_system_tab',\n",
       " 'source_screen_name',\n",
       " 'source_type',\n",
       " 'genre_ids',\n",
       " 'artist_name',\n",
       " 'composer',\n",
       " 'lyricist',\n",
       " 'language',\n",
       " 'city',\n",
       " 'gender',\n",
       " 'registered_via']"
      ]
     },
     "execution_count": 65,
     "metadata": {},
     "output_type": "execute_result"
    }
   ],
   "source": [
    "RAW_CATEGORICAL = CATEGORICAL.copy()\n",
    "RAW_CATEGORICAL.remove('msno')\n",
    "RAW_CATEGORICAL.remove('song_id')\n",
    "RAW_CATEGORICAL"
   ]
  },
  {
   "cell_type": "code",
   "execution_count": 92,
   "metadata": {
    "collapsed": true
   },
   "outputs": [],
   "source": [
    "def gen_model(mem_model):\n",
    "    global cat\n",
    "    cat = RAW_CATEGORICAL\n",
    "    # cat = CATEGORICAL\n",
    "    input_layers = dict()\n",
    "    embed_layers = dict()\n",
    "    for col in cat:\n",
    "        vocab_size = int(max(df_train[col].max(), df_test[col].max()) + 1)\n",
    "        assert vocab_size == len(encoder_dict[col].classes_)\n",
    "        \n",
    "        embed_size = np.power(2, int(np.ceil(np.log2(np.log2(vocab_size)))))\n",
    "        # embed_size = int(np.ceil(np.sqrt(vocab_size)))\n",
    "        print('%20s\\tvocab: %8d, embed: %4d' % (col, vocab_size, embed_size))\n",
    "        embed_layers[col] = Embedding(\n",
    "            input_dim = vocab_size,\n",
    "            output_dim = embed_size,\n",
    "            embeddings_initializer = RandomUniform(minval=-0.1, maxval=0.1),\n",
    "            embeddings_regularizer = l2(1e-4),\n",
    "            input_length = 1,\n",
    "            name = col+'_embed',\n",
    "            trainable=True)\n",
    "        \n",
    "        input_layers[col] = Input(shape=(1,), name=col+'_input')\n",
    "        embed_layers[col] = embed_layers[col](input_layers[col])\n",
    "        embed_layers[col] = Reshape((embed_size,))(embed_layers[col])\n",
    "    n_num = len(NUMERICAL)\n",
    "    numerical_input = Input(shape=(n_num,), name='numerical_input')\n",
    "    preds = concatenate([embed_layers[col] for col in cat] + [numerical_input])\n",
    "    \n",
    "    # generalization layers, from features to latent vectors\n",
    "    preds = Dense(128, activation='relu', name='gen_dense1')(preds)\n",
    "    # preds = Dense(128, activation='relu', name='gen_dense2')(preds)\n",
    "    preds = Dense(128+1, name='gen_dense3')(preds) # last layer just linear\n",
    "    \n",
    "    # inheritate layers from memorization model\n",
    "    # mem_layer_trainable = False # fixed\n",
    "    mem_layer_trainable = True # not fixed\n",
    "    \n",
    "    layer = mem_model.get_layer('mem_dense1')\n",
    "    layer.trainable = mem_layer_trainable\n",
    "    preds = layer(preds)\n",
    "    layer = mem_model.get_layer('mem_dropout1')\n",
    "    layer.trainable = mem_layer_trainable\n",
    "    preds = layer(preds)\n",
    "    layer = mem_model.get_layer('mem_dense2')\n",
    "    layer.trainable = mem_layer_trainable\n",
    "    preds = layer(preds)\n",
    "    \n",
    "    input_list = [input_layers[col] for col in cat] + [numerical_input]\n",
    "\n",
    "    model = Model(inputs=input_list, outputs=preds)\n",
    "    opt = RMSprop(lr=1e-3)\n",
    "    model.compile(loss='binary_crossentropy', optimizer=opt, metrics=['acc'])\n",
    "    return model\n",
    "def gen_input(X):\n",
    "    return [X[col] for col in cat] + [X.loc[:, NUMERICAL]]"
   ]
  },
  {
   "cell_type": "code",
   "execution_count": 93,
   "metadata": {},
   "outputs": [
    {
     "name": "stdout",
     "output_type": "stream",
     "text": [
      "   source_system_tab\tvocab:       10, embed:    4\n",
      "  source_screen_name\tvocab:       22, embed:    8\n",
      "         source_type\tvocab:       13, embed:    4\n",
      "           genre_ids\tvocab:      609, embed:   16\n",
      "         artist_name\tvocab:    46373, embed:   16\n",
      "            composer\tvocab:    86438, embed:   32\n",
      "            lyricist\tvocab:    37876, embed:   16\n",
      "            language\tvocab:       11, embed:    4\n",
      "                city\tvocab:       21, embed:    8\n",
      "              gender\tvocab:        3, embed:    2\n",
      "      registered_via\tvocab:        6, embed:    4\n",
      "__________________________________________________________________________________________________\n",
      "Layer (type)                    Output Shape         Param #     Connected to                     \n",
      "==================================================================================================\n",
      "source_system_tab_input (InputL (None, 1)            0                                            \n",
      "__________________________________________________________________________________________________\n",
      "source_screen_name_input (Input (None, 1)            0                                            \n",
      "__________________________________________________________________________________________________\n",
      "source_type_input (InputLayer)  (None, 1)            0                                            \n",
      "__________________________________________________________________________________________________\n",
      "genre_ids_input (InputLayer)    (None, 1)            0                                            \n",
      "__________________________________________________________________________________________________\n",
      "artist_name_input (InputLayer)  (None, 1)            0                                            \n",
      "__________________________________________________________________________________________________\n",
      "composer_input (InputLayer)     (None, 1)            0                                            \n",
      "__________________________________________________________________________________________________\n",
      "lyricist_input (InputLayer)     (None, 1)            0                                            \n",
      "__________________________________________________________________________________________________\n",
      "language_input (InputLayer)     (None, 1)            0                                            \n",
      "__________________________________________________________________________________________________\n",
      "city_input (InputLayer)         (None, 1)            0                                            \n",
      "__________________________________________________________________________________________________\n",
      "gender_input (InputLayer)       (None, 1)            0                                            \n",
      "__________________________________________________________________________________________________\n",
      "registered_via_input (InputLaye (None, 1)            0                                            \n",
      "__________________________________________________________________________________________________\n",
      "source_system_tab_embed (Embedd (None, 1, 4)         40          source_system_tab_input[0][0]    \n",
      "__________________________________________________________________________________________________\n",
      "source_screen_name_embed (Embed (None, 1, 8)         176         source_screen_name_input[0][0]   \n",
      "__________________________________________________________________________________________________\n",
      "source_type_embed (Embedding)   (None, 1, 4)         52          source_type_input[0][0]          \n",
      "__________________________________________________________________________________________________\n",
      "genre_ids_embed (Embedding)     (None, 1, 16)        9744        genre_ids_input[0][0]            \n",
      "__________________________________________________________________________________________________\n",
      "artist_name_embed (Embedding)   (None, 1, 16)        741968      artist_name_input[0][0]          \n",
      "__________________________________________________________________________________________________\n",
      "composer_embed (Embedding)      (None, 1, 32)        2766016     composer_input[0][0]             \n",
      "__________________________________________________________________________________________________\n",
      "lyricist_embed (Embedding)      (None, 1, 16)        606016      lyricist_input[0][0]             \n",
      "__________________________________________________________________________________________________\n",
      "language_embed (Embedding)      (None, 1, 4)         44          language_input[0][0]             \n",
      "__________________________________________________________________________________________________\n",
      "city_embed (Embedding)          (None, 1, 8)         168         city_input[0][0]                 \n",
      "__________________________________________________________________________________________________\n",
      "gender_embed (Embedding)        (None, 1, 2)         6           gender_input[0][0]               \n",
      "__________________________________________________________________________________________________\n",
      "registered_via_embed (Embedding (None, 1, 4)         24          registered_via_input[0][0]       \n",
      "__________________________________________________________________________________________________\n",
      "reshape_174 (Reshape)           (None, 4)            0           source_system_tab_embed[0][0]    \n",
      "__________________________________________________________________________________________________\n",
      "reshape_175 (Reshape)           (None, 8)            0           source_screen_name_embed[0][0]   \n",
      "__________________________________________________________________________________________________\n",
      "reshape_176 (Reshape)           (None, 4)            0           source_type_embed[0][0]          \n",
      "__________________________________________________________________________________________________\n",
      "reshape_177 (Reshape)           (None, 16)           0           genre_ids_embed[0][0]            \n",
      "__________________________________________________________________________________________________\n",
      "reshape_178 (Reshape)           (None, 16)           0           artist_name_embed[0][0]          \n",
      "__________________________________________________________________________________________________\n",
      "reshape_179 (Reshape)           (None, 32)           0           composer_embed[0][0]             \n",
      "__________________________________________________________________________________________________\n",
      "reshape_180 (Reshape)           (None, 16)           0           lyricist_embed[0][0]             \n",
      "__________________________________________________________________________________________________\n",
      "reshape_181 (Reshape)           (None, 4)            0           language_embed[0][0]             \n",
      "__________________________________________________________________________________________________\n",
      "reshape_182 (Reshape)           (None, 8)            0           city_embed[0][0]                 \n",
      "__________________________________________________________________________________________________\n",
      "reshape_183 (Reshape)           (None, 2)            0           gender_embed[0][0]               \n",
      "__________________________________________________________________________________________________\n",
      "reshape_184 (Reshape)           (None, 4)            0           registered_via_embed[0][0]       \n",
      "__________________________________________________________________________________________________\n",
      "numerical_input (InputLayer)    (None, 22)           0                                            \n",
      "__________________________________________________________________________________________________\n",
      "concatenate_15 (Concatenate)    (None, 136)          0           reshape_174[0][0]                \n",
      "                                                                 reshape_175[0][0]                \n",
      "                                                                 reshape_176[0][0]                \n",
      "                                                                 reshape_177[0][0]                \n",
      "                                                                 reshape_178[0][0]                \n",
      "                                                                 reshape_179[0][0]                \n",
      "                                                                 reshape_180[0][0]                \n",
      "                                                                 reshape_181[0][0]                \n",
      "                                                                 reshape_182[0][0]                \n",
      "                                                                 reshape_183[0][0]                \n",
      "                                                                 reshape_184[0][0]                \n",
      "                                                                 numerical_input[0][0]            \n",
      "__________________________________________________________________________________________________\n",
      "gen_dense1 (Dense)              (None, 128)          17536       concatenate_15[0][0]             \n",
      "__________________________________________________________________________________________________\n",
      "gen_dense3 (Dense)              (None, 129)          16641       gen_dense1[0][0]                 \n",
      "__________________________________________________________________________________________________\n",
      "mem_dense1 (Dense)              (None, 128)          16640       gen_dense3[0][0]                 \n",
      "__________________________________________________________________________________________________\n",
      "mem_dropout1 (Dropout)          (None, 128)          0           mem_dense1[13][0]                \n",
      "__________________________________________________________________________________________________\n",
      "mem_dense2 (Dense)              (None, 1)            129         mem_dropout1[13][0]              \n",
      "==================================================================================================\n",
      "Total params: 4,175,200\n",
      "Trainable params: 4,175,200\n",
      "Non-trainable params: 0\n",
      "__________________________________________________________________________________________________\n"
     ]
    }
   ],
   "source": [
    "gen = gen_model(mem)\n",
    "gen.summary()"
   ]
  },
  {
   "cell_type": "code",
   "execution_count": 95,
   "metadata": {
    "scrolled": true
   },
   "outputs": [
    {
     "name": "stdout",
     "output_type": "stream",
     "text": [
      "Train on 6639676 samples, validate on 737742 samples\n",
      "Epoch 1/100\n",
      "6639676/6639676 [==============================] - 77s 12us/step - loss: 0.8975 - acc: 0.5942 - val_loss: 0.6445 - val_acc: 0.6360\n",
      "Epoch 2/100\n",
      "6639676/6639676 [==============================] - 72s 11us/step - loss: 0.6507 - acc: 0.6333 - val_loss: 0.6362 - val_acc: 0.6474\n",
      "Epoch 3/100\n",
      "6639676/6639676 [==============================] - 71s 11us/step - loss: 0.6456 - acc: 0.6398 - val_loss: 0.6390 - val_acc: 0.6421\n",
      "Epoch 4/100\n",
      "6639676/6639676 [==============================] - 73s 11us/step - loss: 0.6424 - acc: 0.6434 - val_loss: 0.6356 - val_acc: 0.6487\n",
      "Epoch 5/100\n",
      "6639676/6639676 [==============================] - 71s 11us/step - loss: 0.6400 - acc: 0.6457 - val_loss: 0.6324 - val_acc: 0.6483\n",
      "Epoch 6/100\n",
      "6639676/6639676 [==============================] - 71s 11us/step - loss: 0.6380 - acc: 0.6473 - val_loss: 0.6301 - val_acc: 0.6495\n",
      "Epoch 7/100\n",
      "6639676/6639676 [==============================] - 71s 11us/step - loss: 0.6363 - acc: 0.6486 - val_loss: 0.6298 - val_acc: 0.6500\n",
      "Epoch 8/100\n",
      "6639676/6639676 [==============================] - 71s 11us/step - loss: 0.6349 - acc: 0.6494 - val_loss: 0.6286 - val_acc: 0.6509\n",
      "Epoch 9/100\n",
      "6639676/6639676 [==============================] - 71s 11us/step - loss: 0.6335 - acc: 0.6505 - val_loss: 0.6274 - val_acc: 0.6519\n",
      "Epoch 10/100\n",
      "6639676/6639676 [==============================] - 71s 11us/step - loss: 0.6322 - acc: 0.6514 - val_loss: 0.6271 - val_acc: 0.6522\n",
      "Epoch 11/100\n",
      "6639676/6639676 [==============================] - 71s 11us/step - loss: 0.6309 - acc: 0.6526 - val_loss: 0.6260 - val_acc: 0.6532\n",
      "Epoch 12/100\n",
      "6639676/6639676 [==============================] - 71s 11us/step - loss: 0.6298 - acc: 0.6536 - val_loss: 0.6251 - val_acc: 0.6544\n",
      "Epoch 13/100\n",
      "6639676/6639676 [==============================] - 71s 11us/step - loss: 0.6285 - acc: 0.6545 - val_loss: 0.6252 - val_acc: 0.6543\n",
      "Epoch 14/100\n",
      "6639676/6639676 [==============================] - 71s 11us/step - loss: 0.6273 - acc: 0.6554 - val_loss: 0.6252 - val_acc: 0.6550\n",
      "Epoch 15/100\n",
      "6639676/6639676 [==============================] - 71s 11us/step - loss: 0.6261 - acc: 0.6566 - val_loss: 0.6223 - val_acc: 0.6566\n",
      "Epoch 16/100\n",
      "6639676/6639676 [==============================] - 71s 11us/step - loss: 0.6252 - acc: 0.6573 - val_loss: 0.6231 - val_acc: 0.6575\n",
      "Epoch 17/100\n",
      "6639676/6639676 [==============================] - 71s 11us/step - loss: 0.6240 - acc: 0.6582 - val_loss: 0.6220 - val_acc: 0.6579\n",
      "Epoch 18/100\n",
      "6639676/6639676 [==============================] - 71s 11us/step - loss: 0.6231 - acc: 0.6590 - val_loss: 0.6211 - val_acc: 0.6583\n",
      "Epoch 19/100\n",
      "6639676/6639676 [==============================] - 71s 11us/step - loss: 0.6221 - acc: 0.6600 - val_loss: 0.6196 - val_acc: 0.6600\n",
      "Epoch 20/100\n",
      "6639676/6639676 [==============================] - 71s 11us/step - loss: 0.6211 - acc: 0.6610 - val_loss: 0.6184 - val_acc: 0.6607\n",
      "Epoch 21/100\n",
      "6639676/6639676 [==============================] - 71s 11us/step - loss: 0.6205 - acc: 0.6616 - val_loss: 0.6176 - val_acc: 0.6614\n",
      "Epoch 22/100\n",
      "6639676/6639676 [==============================] - 71s 11us/step - loss: 0.6196 - acc: 0.6623 - val_loss: 0.6175 - val_acc: 0.6620\n",
      "Epoch 23/100\n",
      "6639676/6639676 [==============================] - 71s 11us/step - loss: 0.6189 - acc: 0.6629 - val_loss: 0.6168 - val_acc: 0.6626\n",
      "Epoch 24/100\n",
      "6639676/6639676 [==============================] - 71s 11us/step - loss: 0.6182 - acc: 0.6637 - val_loss: 0.6164 - val_acc: 0.6630\n",
      "Epoch 25/100\n",
      "6639676/6639676 [==============================] - 71s 11us/step - loss: 0.6177 - acc: 0.6642 - val_loss: 0.6171 - val_acc: 0.6624\n",
      "Epoch 26/100\n",
      "6639676/6639676 [==============================] - 71s 11us/step - loss: 0.6171 - acc: 0.6647 - val_loss: 0.6150 - val_acc: 0.6643\n",
      "Epoch 27/100\n",
      "6639676/6639676 [==============================] - 71s 11us/step - loss: 0.6165 - acc: 0.6653 - val_loss: 0.6158 - val_acc: 0.6640\n",
      "Epoch 28/100\n",
      "6639676/6639676 [==============================] - 71s 11us/step - loss: 0.6161 - acc: 0.6657 - val_loss: 0.6136 - val_acc: 0.6656\n",
      "Epoch 29/100\n",
      "6639676/6639676 [==============================] - 72s 11us/step - loss: 0.6155 - acc: 0.6663 - val_loss: 0.6163 - val_acc: 0.6652\n",
      "Epoch 30/100\n",
      "6639676/6639676 [==============================] - 71s 11us/step - loss: 0.6150 - acc: 0.6668 - val_loss: 0.6133 - val_acc: 0.6660\n",
      "Epoch 31/100\n",
      "6639676/6639676 [==============================] - 71s 11us/step - loss: 0.6145 - acc: 0.6673 - val_loss: 0.6128 - val_acc: 0.6670\n",
      "Epoch 32/100\n",
      "6639676/6639676 [==============================] - 74s 11us/step - loss: 0.6140 - acc: 0.6679 - val_loss: 0.6134 - val_acc: 0.6664\n",
      "Epoch 33/100\n",
      "6639676/6639676 [==============================] - 74s 11us/step - loss: 0.6137 - acc: 0.6678 - val_loss: 0.6123 - val_acc: 0.6669\n",
      "Epoch 34/100\n",
      "6639676/6639676 [==============================] - 71s 11us/step - loss: 0.6132 - acc: 0.6686 - val_loss: 0.6129 - val_acc: 0.6668\n",
      "Epoch 35/100\n",
      "6639676/6639676 [==============================] - 71s 11us/step - loss: 0.6128 - acc: 0.6690 - val_loss: 0.6114 - val_acc: 0.6685\n",
      "Epoch 36/100\n",
      "6639676/6639676 [==============================] - 72s 11us/step - loss: 0.6124 - acc: 0.6694 - val_loss: 0.6101 - val_acc: 0.6690\n",
      "Epoch 37/100\n",
      "6639676/6639676 [==============================] - 71s 11us/step - loss: 0.6122 - acc: 0.6695 - val_loss: 0.6109 - val_acc: 0.6694\n",
      "Epoch 38/100\n",
      "6639676/6639676 [==============================] - 71s 11us/step - loss: 0.6118 - acc: 0.6700 - val_loss: 0.6121 - val_acc: 0.6686\n",
      "Epoch 39/100\n",
      "6639676/6639676 [==============================] - 70s 11us/step - loss: 0.6115 - acc: 0.6703 - val_loss: 0.6129 - val_acc: 0.6675\n",
      "Epoch 40/100\n",
      "6639676/6639676 [==============================] - 70s 11us/step - loss: 0.6110 - acc: 0.6706 - val_loss: 0.6107 - val_acc: 0.6687\n",
      "Epoch 41/100\n",
      "6639676/6639676 [==============================] - 71s 11us/step - loss: 0.6108 - acc: 0.6710 - val_loss: 0.6144 - val_acc: 0.6672\n",
      "Epoch 42/100\n",
      "6639676/6639676 [==============================] - 71s 11us/step - loss: 0.6105 - acc: 0.6712 - val_loss: 0.6103 - val_acc: 0.6701\n",
      "Epoch 43/100\n",
      "6639676/6639676 [==============================] - 70s 11us/step - loss: 0.6103 - acc: 0.6714 - val_loss: 0.6101 - val_acc: 0.6701\n",
      "Epoch 44/100\n",
      "6639676/6639676 [==============================] - 71s 11us/step - loss: 0.6102 - acc: 0.6717 - val_loss: 0.6098 - val_acc: 0.6715\n",
      "Epoch 45/100\n",
      "6639676/6639676 [==============================] - 71s 11us/step - loss: 0.6098 - acc: 0.6719 - val_loss: 0.6086 - val_acc: 0.6707\n",
      "Epoch 46/100\n",
      "6639676/6639676 [==============================] - 71s 11us/step - loss: 0.6095 - acc: 0.6722 - val_loss: 0.6093 - val_acc: 0.6710\n",
      "Epoch 47/100\n",
      "6639676/6639676 [==============================] - 70s 11us/step - loss: 0.6093 - acc: 0.6723 - val_loss: 0.6087 - val_acc: 0.6711\n",
      "Epoch 48/100\n",
      "6639676/6639676 [==============================] - 70s 11us/step - loss: 0.6090 - acc: 0.6726 - val_loss: 0.6093 - val_acc: 0.6702\n",
      "Epoch 49/100\n",
      "6639676/6639676 [==============================] - 71s 11us/step - loss: 0.6088 - acc: 0.6726 - val_loss: 0.6088 - val_acc: 0.6719\n",
      "Epoch 50/100\n",
      "6639676/6639676 [==============================] - 71s 11us/step - loss: 0.6085 - acc: 0.6730 - val_loss: 0.6076 - val_acc: 0.6722\n",
      "Epoch 51/100\n",
      "6639676/6639676 [==============================] - 71s 11us/step - loss: 0.6084 - acc: 0.6732 - val_loss: 0.6079 - val_acc: 0.6723\n",
      "Epoch 52/100\n",
      "6639676/6639676 [==============================] - 75s 11us/step - loss: 0.6080 - acc: 0.6735 - val_loss: 0.6070 - val_acc: 0.6730\n",
      "Epoch 53/100\n",
      "6639676/6639676 [==============================] - 76s 11us/step - loss: 0.6080 - acc: 0.6736 - val_loss: 0.6084 - val_acc: 0.6726\n",
      "Epoch 54/100\n",
      "6639676/6639676 [==============================] - 73s 11us/step - loss: 0.6079 - acc: 0.6737 - val_loss: 0.6078 - val_acc: 0.6726\n",
      "Epoch 55/100\n",
      "6639676/6639676 [==============================] - 73s 11us/step - loss: 0.6077 - acc: 0.6739 - val_loss: 0.6077 - val_acc: 0.6720\n",
      "Epoch 56/100\n",
      "6639676/6639676 [==============================] - 72s 11us/step - loss: 0.6075 - acc: 0.6741 - val_loss: 0.6082 - val_acc: 0.6730\n",
      "Epoch 57/100\n",
      "6639676/6639676 [==============================] - 71s 11us/step - loss: 0.6074 - acc: 0.6742 - val_loss: 0.6069 - val_acc: 0.6733\n",
      "Epoch 58/100\n",
      "6639676/6639676 [==============================] - 73s 11us/step - loss: 0.6071 - acc: 0.6745 - val_loss: 0.6083 - val_acc: 0.6727\n",
      "Epoch 59/100\n",
      "6639676/6639676 [==============================] - 74s 11us/step - loss: 0.6070 - acc: 0.6747 - val_loss: 0.6063 - val_acc: 0.6735\n",
      "Epoch 60/100\n",
      "6639676/6639676 [==============================] - 74s 11us/step - loss: 0.6068 - acc: 0.6746 - val_loss: 0.6066 - val_acc: 0.6738\n",
      "Epoch 61/100\n",
      "6639676/6639676 [==============================] - 74s 11us/step - loss: 0.6066 - acc: 0.6749 - val_loss: 0.6068 - val_acc: 0.6743\n",
      "Epoch 62/100\n",
      "6639676/6639676 [==============================] - 72s 11us/step - loss: 0.6064 - acc: 0.6753 - val_loss: 0.6073 - val_acc: 0.6732\n",
      "Epoch 63/100\n",
      "6639676/6639676 [==============================] - 73s 11us/step - loss: 0.6063 - acc: 0.6751 - val_loss: 0.6056 - val_acc: 0.6741\n",
      "Epoch 64/100\n",
      "6639676/6639676 [==============================] - 72s 11us/step - loss: 0.6062 - acc: 0.6753 - val_loss: 0.6089 - val_acc: 0.6727\n",
      "Epoch 65/100\n",
      "6639676/6639676 [==============================] - 72s 11us/step - loss: 0.6060 - acc: 0.6753 - val_loss: 0.6062 - val_acc: 0.6743\n",
      "Epoch 66/100\n",
      "6639676/6639676 [==============================] - 74s 11us/step - loss: 0.6059 - acc: 0.6757 - val_loss: 0.6068 - val_acc: 0.6731\n",
      "Epoch 67/100\n",
      "6639676/6639676 [==============================] - 75s 11us/step - loss: 0.6057 - acc: 0.6757 - val_loss: 0.6054 - val_acc: 0.6751\n",
      "Epoch 68/100\n",
      "6639676/6639676 [==============================] - 73s 11us/step - loss: 0.6056 - acc: 0.6760 - val_loss: 0.6058 - val_acc: 0.6752\n",
      "Epoch 69/100\n",
      "6639676/6639676 [==============================] - 73s 11us/step - loss: 0.6054 - acc: 0.6762 - val_loss: 0.6051 - val_acc: 0.6748\n",
      "Epoch 70/100\n",
      "6639676/6639676 [==============================] - 74s 11us/step - loss: 0.6052 - acc: 0.6764 - val_loss: 0.6045 - val_acc: 0.6753\n",
      "Epoch 71/100\n",
      "6639676/6639676 [==============================] - 73s 11us/step - loss: 0.6052 - acc: 0.6763 - val_loss: 0.6048 - val_acc: 0.6755\n",
      "Epoch 72/100\n",
      "6639676/6639676 [==============================] - 73s 11us/step - loss: 0.6051 - acc: 0.6764 - val_loss: 0.6056 - val_acc: 0.6744\n",
      "Epoch 73/100\n",
      "6639676/6639676 [==============================] - 74s 11us/step - loss: 0.6050 - acc: 0.6766 - val_loss: 0.6042 - val_acc: 0.6754\n",
      "Epoch 74/100\n",
      "6639676/6639676 [==============================] - 73s 11us/step - loss: 0.6048 - acc: 0.6767 - val_loss: 0.6071 - val_acc: 0.6737\n",
      "Epoch 75/100\n",
      "6639676/6639676 [==============================] - 77s 12us/step - loss: 0.6047 - acc: 0.6767 - val_loss: 0.6063 - val_acc: 0.6743\n",
      "Epoch 76/100\n",
      "6639676/6639676 [==============================] - 73s 11us/step - loss: 0.6047 - acc: 0.6767 - val_loss: 0.6042 - val_acc: 0.6756\n",
      "Epoch 77/100\n",
      "6639676/6639676 [==============================] - 72s 11us/step - loss: 0.6045 - acc: 0.6771 - val_loss: 0.6047 - val_acc: 0.6762\n",
      "Epoch 78/100\n",
      "6639676/6639676 [==============================] - 73s 11us/step - loss: 0.6044 - acc: 0.6772 - val_loss: 0.6053 - val_acc: 0.6753\n",
      "Epoch 79/100\n",
      "6639676/6639676 [==============================] - 73s 11us/step - loss: 0.6044 - acc: 0.6772 - val_loss: 0.6041 - val_acc: 0.6756\n",
      "Epoch 80/100\n",
      "6639676/6639676 [==============================] - 73s 11us/step - loss: 0.6041 - acc: 0.6773 - val_loss: 0.6046 - val_acc: 0.6763\n",
      "Epoch 81/100\n",
      "6639676/6639676 [==============================] - 74s 11us/step - loss: 0.6040 - acc: 0.6775 - val_loss: 0.6049 - val_acc: 0.6757\n",
      "Epoch 82/100\n",
      "6639676/6639676 [==============================] - 76s 11us/step - loss: 0.6041 - acc: 0.6776 - val_loss: 0.6051 - val_acc: 0.6761\n",
      "Epoch 83/100\n",
      "6639676/6639676 [==============================] - 76s 11us/step - loss: 0.6038 - acc: 0.6777 - val_loss: 0.6057 - val_acc: 0.6747\n",
      "Epoch 84/100\n",
      "6639676/6639676 [==============================] - 74s 11us/step - loss: 0.6038 - acc: 0.6774 - val_loss: 0.6038 - val_acc: 0.6771\n",
      "Epoch 85/100\n",
      "6639676/6639676 [==============================] - 73s 11us/step - loss: 0.6037 - acc: 0.6778 - val_loss: 0.6036 - val_acc: 0.6767\n",
      "Epoch 86/100\n",
      "6639676/6639676 [==============================] - 73s 11us/step - loss: 0.6037 - acc: 0.6780 - val_loss: 0.6043 - val_acc: 0.6772\n",
      "Epoch 87/100\n",
      "6639676/6639676 [==============================] - 74s 11us/step - loss: 0.6035 - acc: 0.6779 - val_loss: 0.6030 - val_acc: 0.6768\n",
      "Epoch 88/100\n",
      "6639676/6639676 [==============================] - 72s 11us/step - loss: 0.6034 - acc: 0.6781 - val_loss: 0.6042 - val_acc: 0.6770\n",
      "Epoch 89/100\n",
      "6639676/6639676 [==============================] - 72s 11us/step - loss: 0.6034 - acc: 0.6780 - val_loss: 0.6028 - val_acc: 0.6774\n",
      "Epoch 90/100\n",
      "6639676/6639676 [==============================] - 73s 11us/step - loss: 0.6033 - acc: 0.6781 - val_loss: 0.6045 - val_acc: 0.6773\n",
      "Epoch 91/100\n",
      "6639676/6639676 [==============================] - 72s 11us/step - loss: 0.6031 - acc: 0.6782 - val_loss: 0.6026 - val_acc: 0.6775\n",
      "Epoch 92/100\n",
      "6639676/6639676 [==============================] - 73s 11us/step - loss: 0.6032 - acc: 0.6782 - val_loss: 0.6026 - val_acc: 0.6772\n",
      "Epoch 93/100\n",
      "6639676/6639676 [==============================] - 72s 11us/step - loss: 0.6029 - acc: 0.6783 - val_loss: 0.6043 - val_acc: 0.6764\n",
      "Epoch 94/100\n",
      "6639676/6639676 [==============================] - 72s 11us/step - loss: 0.6028 - acc: 0.6785 - val_loss: 0.6032 - val_acc: 0.6777\n",
      "Epoch 95/100\n",
      "6639676/6639676 [==============================] - 74s 11us/step - loss: 0.6028 - acc: 0.6786 - val_loss: 0.6029 - val_acc: 0.6773\n",
      "Epoch 96/100\n",
      "6639676/6639676 [==============================] - 74s 11us/step - loss: 0.6026 - acc: 0.6787 - val_loss: 0.6049 - val_acc: 0.6757\n",
      "Epoch 97/100\n",
      "6639676/6639676 [==============================] - 73s 11us/step - loss: 0.6027 - acc: 0.6787 - val_loss: 0.6024 - val_acc: 0.6781\n",
      "Epoch 98/100\n",
      "6639676/6639676 [==============================] - 73s 11us/step - loss: 0.6026 - acc: 0.6788 - val_loss: 0.6044 - val_acc: 0.6768\n",
      "Epoch 99/100\n",
      "6639676/6639676 [==============================] - 73s 11us/step - loss: 0.6026 - acc: 0.6789 - val_loss: 0.6032 - val_acc: 0.6777\n",
      "Epoch 100/100\n",
      "6639676/6639676 [==============================] - 73s 11us/step - loss: 0.6026 - acc: 0.6787 - val_loss: 0.6032 - val_acc: 0.6768\n"
     ]
    }
   ],
   "source": [
    "early_stopping = EarlyStopping(monitor='val_acc', patience=5)\n",
    "gen_path = '../model/keras/gen_model.h5'\n",
    "model_checkpoint = ModelCheckpoint(gen_path, save_best_only=True, save_weights_only=True)\n",
    "\n",
    "hist = gen.fit(\n",
    "    gen_input(X_trn), X_trn['target'],\n",
    "    validation_data=(gen_input(X_val), X_val['target']), \n",
    "    epochs=100, batch_size=32768, shuffle=True,\n",
    "    callbacks=[early_stopping, model_checkpoint]\n",
    ")\n",
    "gen.load_weights(gen_path)"
   ]
  },
  {
   "cell_type": "code",
   "execution_count": 96,
   "metadata": {
    "collapsed": true
   },
   "outputs": [],
   "source": [
    "def gen_validate(model, X):\n",
    "    preds_val = model.predict(gen_input(X), batch_size=32768)\n",
    "    val_auc = roc_auc_score(X['target'], preds_val)\n",
    "    print(val_auc)\n",
    "    return val_auc"
   ]
  },
  {
   "cell_type": "code",
   "execution_count": 97,
   "metadata": {
    "collapsed": true
   },
   "outputs": [],
   "source": [
    "def gen_produce(model, val_auc):\n",
    "    preds_test = model.predict(gen_input(df_test), batch_size=32768, verbose=1)\n",
    "    sub = pd.DataFrame({'id': df_test['id'], 'target': preds_test.ravel()})\n",
    "    sub.to_csv('../result/sub_' + time.strftime(\"%Y-%m-%d_%H_%M_%S\") + '_%.5f.csv.gz' %(val_auc), \n",
    "               compression = 'gzip', index=False)"
   ]
  },
  {
   "cell_type": "code",
   "execution_count": 98,
   "metadata": {},
   "outputs": [
    {
     "name": "stdout",
     "output_type": "stream",
     "text": [
      "0.744782047995\n",
      "0.71435207753\n",
      "2556790/2556790 [==============================] - 8s 3us/step\n"
     ]
    }
   ],
   "source": [
    "val_auc = gen_validate(gen, X_val)\n",
    "gen_validate(gen, X_last)\n",
    "gen_produce(gen, val_auc)"
   ]
  },
  {
   "cell_type": "markdown",
   "metadata": {},
   "source": [
    "# Then Free the last layers"
   ]
  },
  {
   "cell_type": "code",
   "execution_count": 81,
   "metadata": {
    "collapsed": true
   },
   "outputs": [],
   "source": [
    "for layer in gen.layers:\n",
    "    layer.trainable = True\n",
    "opt = RMSprop(lr=1e-3)\n",
    "gen.compile(loss='binary_crossentropy', optimizer=opt, metrics=['acc'])"
   ]
  },
  {
   "cell_type": "code",
   "execution_count": 82,
   "metadata": {
    "scrolled": true
   },
   "outputs": [
    {
     "name": "stdout",
     "output_type": "stream",
     "text": [
      "Train on 6639676 samples, validate on 737742 samples\n",
      "Epoch 1/100\n",
      "6639676/6639676 [==============================] - 83s 13us/step - loss: 0.5957 - acc: 0.6839 - val_loss: 0.6042 - val_acc: 0.6769\n",
      "Epoch 2/100\n",
      "6639676/6639676 [==============================] - 82s 12us/step - loss: 0.5929 - acc: 0.6861 - val_loss: 0.6019 - val_acc: 0.6794\n",
      "Epoch 3/100\n",
      "6639676/6639676 [==============================] - 82s 12us/step - loss: 0.5921 - acc: 0.6866 - val_loss: 0.6063 - val_acc: 0.6750\n",
      "Epoch 4/100\n",
      "6639676/6639676 [==============================] - 82s 12us/step - loss: 0.5915 - acc: 0.6872 - val_loss: 0.6006 - val_acc: 0.6800\n",
      "Epoch 5/100\n",
      "6639676/6639676 [==============================] - 85s 13us/step - loss: 0.5909 - acc: 0.6877 - val_loss: 0.6018 - val_acc: 0.6793\n",
      "Epoch 6/100\n",
      "6639676/6639676 [==============================] - 82s 12us/step - loss: 0.5904 - acc: 0.6880 - val_loss: 0.6044 - val_acc: 0.6758\n",
      "Epoch 7/100\n",
      "6639676/6639676 [==============================] - 82s 12us/step - loss: 0.5900 - acc: 0.6884 - val_loss: 0.6018 - val_acc: 0.6797\n",
      "Epoch 8/100\n",
      "6639676/6639676 [==============================] - 82s 12us/step - loss: 0.5895 - acc: 0.6889 - val_loss: 0.6016 - val_acc: 0.6783\n",
      "Epoch 9/100\n",
      "6639676/6639676 [==============================] - 82s 12us/step - loss: 0.5892 - acc: 0.6891 - val_loss: 0.6001 - val_acc: 0.6798\n"
     ]
    }
   ],
   "source": [
    "early_stopping = EarlyStopping(monitor='val_acc', patience=5)\n",
    "gen_path = '../model/keras/final_model.h5'\n",
    "model_checkpoint = ModelCheckpoint(gen_path, save_best_only=True, save_weights_only=True)\n",
    "hist = gen.fit(\n",
    "    gen_input(X_trn), X_trn['target'],\n",
    "    validation_data=(gen_input(X_val), X_val['target']), \n",
    "    epochs=100, batch_size=32768, shuffle=True,\n",
    "    callbacks=[early_stopping, model_checkpoint]\n",
    ")\n",
    "gen.load_weights(gen_path)"
   ]
  },
  {
   "cell_type": "code",
   "execution_count": 83,
   "metadata": {},
   "outputs": [
    {
     "name": "stdout",
     "output_type": "stream",
     "text": [
      "0.74886682434\n",
      "0.726445862736\n",
      "2556790/2556790 [==============================] - 8s 3us/step\n"
     ]
    }
   ],
   "source": [
    "val_auc = gen_validate(gen, X_val)\n",
    "gen_validate(gen, X_last)\n",
    "gen_produce(gen, val_auc)"
   ]
  },
  {
   "cell_type": "markdown",
   "metadata": {},
   "source": [
    "# Directly use dnn"
   ]
  },
  {
   "cell_type": "code",
   "execution_count": 102,
   "metadata": {
    "collapsed": true
   },
   "outputs": [],
   "source": [
    "# cat = RAW_CATEGORICAL\n",
    "cat = CATEGORICAL\n",
    "def dnn_model(mem_model):\n",
    "    input_layers = dict()\n",
    "    embed_layers = dict()\n",
    "    for col in cat:\n",
    "        vocab_size = int(max(df_train[col].max(), df_test[col].max()) + 1)\n",
    "        assert vocab_size == len(encoder_dict[col].classes_)\n",
    "        \n",
    "        embed_size = np.power(2, int(np.ceil(np.log2(np.log2(vocab_size)))))\n",
    "        # embed_size = int(np.ceil(np.sqrt(vocab_size)))\n",
    "        print('%20s\\tvocab: %8d, embed: %4d' % (col, vocab_size, embed_size))\n",
    "        embed_layers[col] = Embedding(\n",
    "            input_dim = vocab_size,\n",
    "            output_dim = embed_size,\n",
    "            embeddings_initializer = RandomUniform(minval=-0.1, maxval=0.1),\n",
    "            embeddings_regularizer = l2(1e-4),\n",
    "            input_length = 1,\n",
    "            name = col+'_embed',\n",
    "            trainable=True)\n",
    "        \n",
    "        input_layers[col] = Input(shape=(1,), name=col+'_input')\n",
    "        embed_layers[col] = embed_layers[col](input_layers[col])\n",
    "        embed_layers[col] = Reshape((embed_size,))(embed_layers[col])\n",
    "    n_num = len(NUMERICAL)\n",
    "    numerical_input = Input(shape=(n_num,), name='numerical_input')\n",
    "    preds = concatenate([embed_layers[col] for col in cat] + [numerical_input])\n",
    "    \n",
    "    # generalization layers, from features to latent vectors\n",
    "    preds = Dense(128, activation='relu', name='dnn_dense1')(preds)\n",
    "    # preds = Dense(128, activation='relu', name='gen_dense2')(preds)\n",
    "    preds = Dense(64, activation='relu', name='dnn_dense2')(preds)\n",
    "    preds = Dense(32, activation='relu', name='dnn_dense3')(preds)\n",
    "    preds = Dropout(0.5)(preds)\n",
    "    preds = Dense(1, activation='sigmoid')(preds)\n",
    "    \n",
    "    input_list = [input_layers[col] for col in cat] + [numerical_input]\n",
    "\n",
    "    model = Model(inputs=input_list, outputs=preds)\n",
    "    opt = RMSprop(lr=1e-3)\n",
    "    model.compile(loss='binary_crossentropy', optimizer=opt, metrics=['acc'])\n",
    "    return model\n",
    "def dnn_input(X):\n",
    "    return [X[col] for col in cat] + [X.loc[:, NUMERICAL]]"
   ]
  },
  {
   "cell_type": "code",
   "execution_count": 101,
   "metadata": {},
   "outputs": [
    {
     "name": "stdout",
     "output_type": "stream",
     "text": [
      "                msno\tvocab:    34403, embed:   16\n",
      "             song_id\tvocab:   419839, embed:   32\n",
      "   source_system_tab\tvocab:       10, embed:    4\n",
      "  source_screen_name\tvocab:       22, embed:    8\n",
      "         source_type\tvocab:       13, embed:    4\n",
      "           genre_ids\tvocab:      609, embed:   16\n",
      "         artist_name\tvocab:    46373, embed:   16\n",
      "            composer\tvocab:    86438, embed:   32\n",
      "            lyricist\tvocab:    37876, embed:   16\n",
      "            language\tvocab:       11, embed:    4\n",
      "                city\tvocab:       21, embed:    8\n",
      "              gender\tvocab:        3, embed:    2\n",
      "      registered_via\tvocab:        6, embed:    4\n",
      "__________________________________________________________________________________________________\n",
      "Layer (type)                    Output Shape         Param #     Connected to                     \n",
      "==================================================================================================\n",
      "msno_input (InputLayer)         (None, 1)            0                                            \n",
      "__________________________________________________________________________________________________\n",
      "song_id_input (InputLayer)      (None, 1)            0                                            \n",
      "__________________________________________________________________________________________________\n",
      "source_system_tab_input (InputL (None, 1)            0                                            \n",
      "__________________________________________________________________________________________________\n",
      "source_screen_name_input (Input (None, 1)            0                                            \n",
      "__________________________________________________________________________________________________\n",
      "source_type_input (InputLayer)  (None, 1)            0                                            \n",
      "__________________________________________________________________________________________________\n",
      "genre_ids_input (InputLayer)    (None, 1)            0                                            \n",
      "__________________________________________________________________________________________________\n",
      "artist_name_input (InputLayer)  (None, 1)            0                                            \n",
      "__________________________________________________________________________________________________\n",
      "composer_input (InputLayer)     (None, 1)            0                                            \n",
      "__________________________________________________________________________________________________\n",
      "lyricist_input (InputLayer)     (None, 1)            0                                            \n",
      "__________________________________________________________________________________________________\n",
      "language_input (InputLayer)     (None, 1)            0                                            \n",
      "__________________________________________________________________________________________________\n",
      "city_input (InputLayer)         (None, 1)            0                                            \n",
      "__________________________________________________________________________________________________\n",
      "gender_input (InputLayer)       (None, 1)            0                                            \n",
      "__________________________________________________________________________________________________\n",
      "registered_via_input (InputLaye (None, 1)            0                                            \n",
      "__________________________________________________________________________________________________\n",
      "msno_embed (Embedding)          (None, 1, 16)        550448      msno_input[0][0]                 \n",
      "__________________________________________________________________________________________________\n",
      "song_id_embed (Embedding)       (None, 1, 32)        13434848    song_id_input[0][0]              \n",
      "__________________________________________________________________________________________________\n",
      "source_system_tab_embed (Embedd (None, 1, 4)         40          source_system_tab_input[0][0]    \n",
      "__________________________________________________________________________________________________\n",
      "source_screen_name_embed (Embed (None, 1, 8)         176         source_screen_name_input[0][0]   \n",
      "__________________________________________________________________________________________________\n",
      "source_type_embed (Embedding)   (None, 1, 4)         52          source_type_input[0][0]          \n",
      "__________________________________________________________________________________________________\n",
      "genre_ids_embed (Embedding)     (None, 1, 16)        9744        genre_ids_input[0][0]            \n",
      "__________________________________________________________________________________________________\n",
      "artist_name_embed (Embedding)   (None, 1, 16)        741968      artist_name_input[0][0]          \n",
      "__________________________________________________________________________________________________\n",
      "composer_embed (Embedding)      (None, 1, 32)        2766016     composer_input[0][0]             \n",
      "__________________________________________________________________________________________________\n",
      "lyricist_embed (Embedding)      (None, 1, 16)        606016      lyricist_input[0][0]             \n",
      "__________________________________________________________________________________________________\n",
      "language_embed (Embedding)      (None, 1, 4)         44          language_input[0][0]             \n",
      "__________________________________________________________________________________________________\n",
      "city_embed (Embedding)          (None, 1, 8)         168         city_input[0][0]                 \n",
      "__________________________________________________________________________________________________\n",
      "gender_embed (Embedding)        (None, 1, 2)         6           gender_input[0][0]               \n",
      "__________________________________________________________________________________________________\n",
      "registered_via_embed (Embedding (None, 1, 4)         24          registered_via_input[0][0]       \n",
      "__________________________________________________________________________________________________\n",
      "reshape_185 (Reshape)           (None, 16)           0           msno_embed[0][0]                 \n",
      "__________________________________________________________________________________________________\n",
      "reshape_186 (Reshape)           (None, 32)           0           song_id_embed[0][0]              \n",
      "__________________________________________________________________________________________________\n",
      "reshape_187 (Reshape)           (None, 4)            0           source_system_tab_embed[0][0]    \n",
      "__________________________________________________________________________________________________\n",
      "reshape_188 (Reshape)           (None, 8)            0           source_screen_name_embed[0][0]   \n",
      "__________________________________________________________________________________________________\n",
      "reshape_189 (Reshape)           (None, 4)            0           source_type_embed[0][0]          \n",
      "__________________________________________________________________________________________________\n",
      "reshape_190 (Reshape)           (None, 16)           0           genre_ids_embed[0][0]            \n",
      "__________________________________________________________________________________________________\n",
      "reshape_191 (Reshape)           (None, 16)           0           artist_name_embed[0][0]          \n",
      "__________________________________________________________________________________________________\n",
      "reshape_192 (Reshape)           (None, 32)           0           composer_embed[0][0]             \n",
      "__________________________________________________________________________________________________\n",
      "reshape_193 (Reshape)           (None, 16)           0           lyricist_embed[0][0]             \n",
      "__________________________________________________________________________________________________\n",
      "reshape_194 (Reshape)           (None, 4)            0           language_embed[0][0]             \n",
      "__________________________________________________________________________________________________\n",
      "reshape_195 (Reshape)           (None, 8)            0           city_embed[0][0]                 \n",
      "__________________________________________________________________________________________________\n",
      "reshape_196 (Reshape)           (None, 2)            0           gender_embed[0][0]               \n",
      "__________________________________________________________________________________________________\n",
      "reshape_197 (Reshape)           (None, 4)            0           registered_via_embed[0][0]       \n",
      "__________________________________________________________________________________________________\n",
      "numerical_input (InputLayer)    (None, 22)           0                                            \n",
      "__________________________________________________________________________________________________\n",
      "concatenate_16 (Concatenate)    (None, 184)          0           reshape_185[0][0]                \n",
      "                                                                 reshape_186[0][0]                \n",
      "                                                                 reshape_187[0][0]                \n",
      "                                                                 reshape_188[0][0]                \n",
      "                                                                 reshape_189[0][0]                \n",
      "                                                                 reshape_190[0][0]                \n",
      "                                                                 reshape_191[0][0]                \n",
      "                                                                 reshape_192[0][0]                \n",
      "                                                                 reshape_193[0][0]                \n",
      "                                                                 reshape_194[0][0]                \n",
      "                                                                 reshape_195[0][0]                \n",
      "                                                                 reshape_196[0][0]                \n",
      "                                                                 reshape_197[0][0]                \n",
      "                                                                 numerical_input[0][0]            \n",
      "__________________________________________________________________________________________________\n",
      "dnn_dense1 (Dense)              (None, 128)          23680       concatenate_16[0][0]             \n",
      "__________________________________________________________________________________________________\n",
      "dnn_dense2 (Dense)              (None, 64)           8256        dnn_dense1[0][0]                 \n",
      "__________________________________________________________________________________________________\n",
      "dnn_dense3 (Dense)              (None, 32)           2080        dnn_dense2[0][0]                 \n",
      "__________________________________________________________________________________________________\n",
      "dropout_1 (Dropout)             (None, 32)           0           dnn_dense3[0][0]                 \n",
      "__________________________________________________________________________________________________\n",
      "dense_1 (Dense)                 (None, 1)            33          dropout_1[0][0]                  \n",
      "==================================================================================================\n",
      "Total params: 18,143,599\n",
      "Trainable params: 18,143,599\n",
      "Non-trainable params: 0\n",
      "__________________________________________________________________________________________________\n"
     ]
    }
   ],
   "source": [
    "dnn = dnn_model(mem)\n",
    "dnn.summary()"
   ]
  },
  {
   "cell_type": "code",
   "execution_count": 103,
   "metadata": {
    "scrolled": true
   },
   "outputs": [
    {
     "name": "stdout",
     "output_type": "stream",
     "text": [
      "Train on 6639676 samples, validate on 737742 samples\n",
      "Epoch 1/100\n",
      "6639676/6639676 [==============================] - 114s 17us/step - loss: 1.2639 - acc: 0.6617 - val_loss: 0.5979 - val_acc: 0.6893\n",
      "Epoch 2/100\n",
      "6639676/6639676 [==============================] - 97s 15us/step - loss: 0.5970 - acc: 0.6930 - val_loss: 0.5888 - val_acc: 0.6931\n",
      "Epoch 3/100\n",
      "6639676/6639676 [==============================] - 99s 15us/step - loss: 0.5901 - acc: 0.6957 - val_loss: 0.5802 - val_acc: 0.6982\n",
      "Epoch 4/100\n",
      "6639676/6639676 [==============================] - 98s 15us/step - loss: 0.5808 - acc: 0.7037 - val_loss: 0.5733 - val_acc: 0.7063\n",
      "Epoch 5/100\n",
      "6639676/6639676 [==============================] - 98s 15us/step - loss: 0.5758 - acc: 0.7097 - val_loss: 0.5696 - val_acc: 0.7100\n",
      "Epoch 6/100\n",
      "6639676/6639676 [==============================] - 99s 15us/step - loss: 0.5714 - acc: 0.7146 - val_loss: 0.5653 - val_acc: 0.7149\n",
      "Epoch 7/100\n",
      "6639676/6639676 [==============================] - 99s 15us/step - loss: 0.5675 - acc: 0.7184 - val_loss: 0.5629 - val_acc: 0.7174\n",
      "Epoch 8/100\n",
      "6639676/6639676 [==============================] - 100s 15us/step - loss: 0.5661 - acc: 0.7202 - val_loss: 0.5626 - val_acc: 0.7185\n",
      "Epoch 9/100\n",
      "6639676/6639676 [==============================] - 97s 15us/step - loss: 0.5647 - acc: 0.7217 - val_loss: 0.5621 - val_acc: 0.7196\n",
      "Epoch 10/100\n",
      "6639676/6639676 [==============================] - 98s 15us/step - loss: 0.5629 - acc: 0.7239 - val_loss: 0.5605 - val_acc: 0.7213\n",
      "Epoch 11/100\n",
      "6639676/6639676 [==============================] - 101s 15us/step - loss: 0.5602 - acc: 0.7270 - val_loss: 0.5573 - val_acc: 0.7245\n",
      "Epoch 12/100\n",
      "6639676/6639676 [==============================] - 106s 16us/step - loss: 0.5568 - acc: 0.7307 - val_loss: 0.5555 - val_acc: 0.7270\n",
      "Epoch 13/100\n",
      "6639676/6639676 [==============================] - 107s 16us/step - loss: 0.5538 - acc: 0.7336 - val_loss: 0.5528 - val_acc: 0.7295\n",
      "Epoch 14/100\n",
      "6639676/6639676 [==============================] - 108s 16us/step - loss: 0.5514 - acc: 0.7360 - val_loss: 0.5503 - val_acc: 0.7323\n",
      "Epoch 15/100\n",
      "6639676/6639676 [==============================] - 108s 16us/step - loss: 0.5492 - acc: 0.7378 - val_loss: 0.5500 - val_acc: 0.7320\n",
      "Epoch 16/100\n",
      "6639676/6639676 [==============================] - 104s 16us/step - loss: 0.5475 - acc: 0.7394 - val_loss: 0.5485 - val_acc: 0.7331\n",
      "Epoch 17/100\n",
      "6639676/6639676 [==============================] - 103s 16us/step - loss: 0.5460 - acc: 0.7408 - val_loss: 0.5475 - val_acc: 0.7346\n",
      "Epoch 18/100\n",
      "6639676/6639676 [==============================] - 100s 15us/step - loss: 0.5447 - acc: 0.7420 - val_loss: 0.5497 - val_acc: 0.7327\n",
      "Epoch 19/100\n",
      "6639676/6639676 [==============================] - 104s 16us/step - loss: 0.5435 - acc: 0.7433 - val_loss: 0.5457 - val_acc: 0.7368\n",
      "Epoch 20/100\n",
      "6639676/6639676 [==============================] - 103s 16us/step - loss: 0.5422 - acc: 0.7444 - val_loss: 0.5469 - val_acc: 0.7358\n",
      "Epoch 21/100\n",
      "6639676/6639676 [==============================] - 103s 16us/step - loss: 0.5411 - acc: 0.7455 - val_loss: 0.5460 - val_acc: 0.7363\n",
      "Epoch 22/100\n",
      "6639676/6639676 [==============================] - 100s 15us/step - loss: 0.5400 - acc: 0.7466 - val_loss: 0.5441 - val_acc: 0.7386\n",
      "Epoch 23/100\n",
      "6639676/6639676 [==============================] - 98s 15us/step - loss: 0.5389 - acc: 0.7476 - val_loss: 0.5436 - val_acc: 0.7393\n",
      "Epoch 24/100\n",
      "6639676/6639676 [==============================] - 97s 15us/step - loss: 0.5378 - acc: 0.7488 - val_loss: 0.5453 - val_acc: 0.7398\n",
      "Epoch 25/100\n",
      "6639676/6639676 [==============================] - 97s 15us/step - loss: 0.5369 - acc: 0.7499 - val_loss: 0.5426 - val_acc: 0.7412\n",
      "Epoch 26/100\n",
      "6639676/6639676 [==============================] - 97s 15us/step - loss: 0.5358 - acc: 0.7509 - val_loss: 0.5438 - val_acc: 0.7408\n",
      "Epoch 27/100\n",
      "6639676/6639676 [==============================] - 97s 15us/step - loss: 0.5348 - acc: 0.7520 - val_loss: 0.5426 - val_acc: 0.7409\n",
      "Epoch 28/100\n",
      "6639676/6639676 [==============================] - 100s 15us/step - loss: 0.5339 - acc: 0.7531 - val_loss: 0.5423 - val_acc: 0.7416\n",
      "Epoch 29/100\n",
      "6639676/6639676 [==============================] - 99s 15us/step - loss: 0.5329 - acc: 0.7539 - val_loss: 0.5433 - val_acc: 0.7417\n",
      "Epoch 30/100\n",
      "6639676/6639676 [==============================] - 99s 15us/step - loss: 0.5320 - acc: 0.7551 - val_loss: 0.5429 - val_acc: 0.7432\n",
      "Epoch 31/100\n",
      "6639676/6639676 [==============================] - 106s 16us/step - loss: 0.5312 - acc: 0.7558 - val_loss: 0.5426 - val_acc: 0.7428\n",
      "Epoch 32/100\n",
      "6639676/6639676 [==============================] - 101s 15us/step - loss: 0.5302 - acc: 0.7566 - val_loss: 0.5418 - val_acc: 0.7443\n",
      "Epoch 33/100\n",
      "6639676/6639676 [==============================] - 100s 15us/step - loss: 0.5293 - acc: 0.7576 - val_loss: 0.5418 - val_acc: 0.7445\n",
      "Epoch 34/100\n",
      "6639676/6639676 [==============================] - 101s 15us/step - loss: 0.5285 - acc: 0.7583 - val_loss: 0.5437 - val_acc: 0.7432\n",
      "Epoch 35/100\n",
      "6639676/6639676 [==============================] - 98s 15us/step - loss: 0.5276 - acc: 0.7592 - val_loss: 0.5424 - val_acc: 0.7447\n",
      "Epoch 36/100\n",
      "6639676/6639676 [==============================] - 96s 14us/step - loss: 0.5269 - acc: 0.7598 - val_loss: 0.5445 - val_acc: 0.7444\n",
      "Epoch 37/100\n",
      "6639676/6639676 [==============================] - 97s 15us/step - loss: 0.5262 - acc: 0.7607 - val_loss: 0.5434 - val_acc: 0.7445\n",
      "Epoch 38/100\n",
      "6639676/6639676 [==============================] - 97s 15us/step - loss: 0.5255 - acc: 0.7614 - val_loss: 0.5440 - val_acc: 0.7444\n",
      "Epoch 39/100\n",
      "6639676/6639676 [==============================] - 96s 14us/step - loss: 0.5249 - acc: 0.7619 - val_loss: 0.5431 - val_acc: 0.7461\n",
      "Epoch 40/100\n",
      "6639676/6639676 [==============================] - 96s 14us/step - loss: 0.5242 - acc: 0.7625 - val_loss: 0.5437 - val_acc: 0.7459\n",
      "Epoch 41/100\n",
      "6639676/6639676 [==============================] - 97s 15us/step - loss: 0.5236 - acc: 0.7631 - val_loss: 0.5448 - val_acc: 0.7445\n",
      "Epoch 42/100\n",
      "6639676/6639676 [==============================] - 95s 14us/step - loss: 0.5232 - acc: 0.7636 - val_loss: 0.5466 - val_acc: 0.7430\n",
      "Epoch 43/100\n",
      "6639676/6639676 [==============================] - 96s 14us/step - loss: 0.5227 - acc: 0.7640 - val_loss: 0.5447 - val_acc: 0.7463\n",
      "Epoch 44/100\n",
      "6639676/6639676 [==============================] - 96s 14us/step - loss: 0.5220 - acc: 0.7646 - val_loss: 0.5445 - val_acc: 0.7453\n",
      "Epoch 45/100\n",
      "6639676/6639676 [==============================] - 96s 14us/step - loss: 0.5215 - acc: 0.7650 - val_loss: 0.5475 - val_acc: 0.7455\n",
      "Epoch 46/100\n",
      "6639676/6639676 [==============================] - 96s 14us/step - loss: 0.5211 - acc: 0.7655 - val_loss: 0.5463 - val_acc: 0.7463\n",
      "Epoch 47/100\n",
      "6639676/6639676 [==============================] - 98s 15us/step - loss: 0.5205 - acc: 0.7659 - val_loss: 0.5477 - val_acc: 0.7458\n",
      "Epoch 48/100\n",
      "6639676/6639676 [==============================] - 98s 15us/step - loss: 0.5202 - acc: 0.7662 - val_loss: 0.5460 - val_acc: 0.7469\n",
      "Epoch 49/100\n",
      "6639676/6639676 [==============================] - 97s 15us/step - loss: 0.5197 - acc: 0.7667 - val_loss: 0.5472 - val_acc: 0.7450\n",
      "Epoch 50/100\n",
      "6639676/6639676 [==============================] - 97s 15us/step - loss: 0.5193 - acc: 0.7671 - val_loss: 0.5484 - val_acc: 0.7459\n",
      "Epoch 51/100\n",
      "6639676/6639676 [==============================] - 98s 15us/step - loss: 0.5189 - acc: 0.7674 - val_loss: 0.5501 - val_acc: 0.7431\n",
      "Epoch 52/100\n",
      "6639676/6639676 [==============================] - 101s 15us/step - loss: 0.5186 - acc: 0.7678 - val_loss: 0.5478 - val_acc: 0.7466\n",
      "Epoch 53/100\n",
      "6639676/6639676 [==============================] - 98s 15us/step - loss: 0.5181 - acc: 0.7681 - val_loss: 0.5490 - val_acc: 0.7449\n"
     ]
    }
   ],
   "source": [
    "early_stopping = EarlyStopping(monitor='val_acc', patience=5)\n",
    "dnn_path = '../model/keras/dnn_model.h5'\n",
    "model_checkpoint = ModelCheckpoint(dnn_path, save_best_only=True, save_weights_only=True)\n",
    "hist = dnn.fit(\n",
    "    dnn_input(X_trn), X_trn['target'],\n",
    "    validation_data=(dnn_input(X_val), X_val['target']), \n",
    "    epochs=100, batch_size=32768, shuffle=True,\n",
    "    callbacks=[early_stopping, model_checkpoint]\n",
    ")\n",
    "dnn.load_weights(dnn_path)"
   ]
  },
  {
   "cell_type": "code",
   "execution_count": 112,
   "metadata": {
    "collapsed": true
   },
   "outputs": [],
   "source": [
    "def dnn_validate(model, X):\n",
    "    preds_val = model.predict(dnn_input(X), batch_size=32768)\n",
    "    val_auc = roc_auc_score(X['target'], preds_val)\n",
    "    print(val_auc)\n",
    "    return val_auc"
   ]
  },
  {
   "cell_type": "code",
   "execution_count": 113,
   "metadata": {
    "collapsed": true
   },
   "outputs": [],
   "source": [
    "def dnn_produce(model, val_auc):\n",
    "    preds_test = model.predict(dnn_input(df_test), batch_size=32768, verbose=1)\n",
    "    sub = pd.DataFrame({'id': df_test['id'], 'target': preds_test.ravel()})\n",
    "    sub.to_csv('../result/sub_dnn_' + time.strftime(\"%Y-%m-%d_%H_%M_%S\") + '_%.5f.csv.gz' %(val_auc), \n",
    "               compression = 'gzip', index=False)"
   ]
  },
  {
   "cell_type": "code",
   "execution_count": 108,
   "metadata": {},
   "outputs": [
    {
     "data": {
      "text/plain": [
       "[<tf.Tensor 'msno_input_9:0' shape=(?, 1) dtype=float32>,\n",
       " <tf.Tensor 'song_id_input_8:0' shape=(?, 1) dtype=float32>,\n",
       " <tf.Tensor 'source_system_tab_input_15:0' shape=(?, 1) dtype=float32>,\n",
       " <tf.Tensor 'source_screen_name_input_15:0' shape=(?, 1) dtype=float32>,\n",
       " <tf.Tensor 'source_type_input_15:0' shape=(?, 1) dtype=float32>,\n",
       " <tf.Tensor 'genre_ids_input_15:0' shape=(?, 1) dtype=float32>,\n",
       " <tf.Tensor 'artist_name_input_15:0' shape=(?, 1) dtype=float32>,\n",
       " <tf.Tensor 'composer_input_15:0' shape=(?, 1) dtype=float32>,\n",
       " <tf.Tensor 'lyricist_input_15:0' shape=(?, 1) dtype=float32>,\n",
       " <tf.Tensor 'language_input_15:0' shape=(?, 1) dtype=float32>,\n",
       " <tf.Tensor 'city_input_15:0' shape=(?, 1) dtype=float32>,\n",
       " <tf.Tensor 'gender_input_15:0' shape=(?, 1) dtype=float32>,\n",
       " <tf.Tensor 'registered_via_input_15:0' shape=(?, 1) dtype=float32>,\n",
       " <tf.Tensor 'numerical_input_15:0' shape=(?, 22) dtype=float32>]"
      ]
     },
     "execution_count": 108,
     "metadata": {},
     "output_type": "execute_result"
    }
   ],
   "source": [
    "dnn.input"
   ]
  },
  {
   "cell_type": "code",
   "execution_count": 115,
   "metadata": {},
   "outputs": [
    {
     "name": "stdout",
     "output_type": "stream",
     "text": [
      "0.825858018392\n",
      "0.827327637362\n",
      "2556790/2556790 [==============================] - 7s 3us/step\n"
     ]
    }
   ],
   "source": [
    "val_auc = dnn_validate(dnn, X_val)\n",
    "dnn_validate(dnn, X_last)\n",
    "dnn_produce(dnn, val_auc)"
   ]
  },
  {
   "cell_type": "code",
   "execution_count": null,
   "metadata": {
    "collapsed": true
   },
   "outputs": [],
   "source": []
  }
 ],
 "metadata": {
  "kernelspec": {
   "display_name": "Python 3",
   "language": "python",
   "name": "python3"
  },
  "language_info": {
   "codemirror_mode": {
    "name": "ipython",
    "version": 3
   },
   "file_extension": ".py",
   "mimetype": "text/x-python",
   "name": "python",
   "nbconvert_exporter": "python",
   "pygments_lexer": "ipython3",
   "version": "3.6.2"
  }
 },
 "nbformat": 4,
 "nbformat_minor": 2
}
