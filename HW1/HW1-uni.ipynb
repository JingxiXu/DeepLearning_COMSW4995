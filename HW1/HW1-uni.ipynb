{
 "cells": [
  {
   "cell_type": "markdown",
   "metadata": {
    "collapsed": true
   },
   "source": [
    "# COMS 4995_002 Deep Learning Assignment 1\n",
    "Due on Monday, Oct 9, 11:59pm\n",
    "\n",
    "This assignment can be done in groups of at most 3 students. Everyone must submit on Courseworks individually."
   ]
  },
  {
   "cell_type": "markdown",
   "metadata": {},
   "source": [
    "Write down the UNIs of your group (if applicable)\n",
    "\n",
    "Member 1: Name, UNI\n",
    "\n",
    "Member 2: Name, UNI\n",
    "\n",
    "Member 3: Name, UNI"
   ]
  },
  {
   "cell_type": "code",
   "execution_count": 1,
   "metadata": {
    "collapsed": true
   },
   "outputs": [],
   "source": [
    "%matplotlib inline\n",
    "import matplotlib.pyplot as plt\n",
    "import numpy as np\n",
    "import scipy.misc\n",
    "import glob\n",
    "import sys\n",
    "# you shouldn't need to make any more imports"
   ]
  },
  {
   "cell_type": "code",
   "execution_count": 51,
   "metadata": {},
   "outputs": [],
   "source": [
    "class NeuralNetwork(object):\n",
    "    \"\"\"\n",
    "    Abstraction of neural network.\n",
    "    Stores parameters, activations, cached values. \n",
    "    Provides necessary functions for training and prediction. \n",
    "    \"\"\"\n",
    "    def __init__(self, layer_dimensions, drop_prob=0.0, reg_lambda=0.0):\n",
    "        \"\"\"\n",
    "        Initializes the weights and biases for each layer\n",
    "        :param layer_dimensions: (list) number of nodes in each layer\n",
    "        :param drop_prob: drop probability for dropout layers. Only required in part 2 of the assignment\n",
    "        :param reg_lambda: regularization parameter. Only required in part 2 of the assignment\n",
    "        \"\"\"\n",
    "        np.random.seed(1)\n",
    "        \n",
    "        self.parameters = {}\n",
    "        self.num_layers = len(layer_dimensions)\n",
    "        self.drop_prob = drop_prob\n",
    "        self.reg_lambda = reg_lambda\n",
    "        self.status = 'train'\n",
    "        self.X_val = None\n",
    "        self.y_val = None\n",
    "        \n",
    "        # init parameters\n",
    "        for i in range(1, self.num_layers):\n",
    "#             self.parameters[('W', i)] = np.random.normal(0, 1, (layer_dimensions[i], layer_dimensions[i - 1]))\n",
    "#             self.parameters[('W', i)] /= np.sqrt(layer_dimensions[i - 1])\n",
    "            self.parameters[('W', i)] = np.random.randn(layer_dimensions[i], layer_dimensions[i - 1]) / np.sqrt(layer_dimensions[i - 1])\n",
    "            self.parameters[('b', i)] = np.zeros([layer_dimensions[i], 1])\n",
    "\n",
    "    def affineForward(self, A, W, b):\n",
    "        \"\"\"\n",
    "        Forward pass for the affine layer.\n",
    "        :param A: input matrix, shape (L, S), where L is the number of hidden units in the previous layer and S is\n",
    "        the number of samples\n",
    "        :returns: the affine product WA + b, along with the cache required for the backward pass\n",
    "        \"\"\"\n",
    "#         M = None\n",
    "#         if self.status == 'train' and self.drop_prob > 0:\n",
    "#             # dropout only when training\n",
    "#             A, M = self.dropout(A, self.drop_prob)\n",
    "        Z = np.dot(W, A) + b\n",
    "        cache = (A, W, b, Z)\n",
    "        return Z, cache\n",
    "\n",
    "    def activationForward(self, A, activation=\"relu\"):\n",
    "        \"\"\"\n",
    "        Common interface to access all activation functions.\n",
    "        :param A: input to the activation function\n",
    "        :param prob: activation funciton to apply to A. Just \"relu\" for this assignment.\n",
    "        :returns: activation(A)\n",
    "        \"\"\" \n",
    "        return self.relu(A)\n",
    "\n",
    "    def relu(self, X):\n",
    "        A = np.maximum(0, X)\n",
    "        assert (X.shape == A.shape)\n",
    "        return A\n",
    "            \n",
    "    def dropout(self, A, prob):\n",
    "        \"\"\"\n",
    "        :param A: \n",
    "        :param prob: drop prob\n",
    "        :returns: tuple (A, M) \n",
    "            WHERE\n",
    "            A is matrix after applying dropout\n",
    "            M is dropout mask, used in the backward pass\n",
    "        \"\"\"\n",
    "        M = np.random.uniform(size = A.shape)\n",
    "        M = (M > prob) / (1 - prob)\n",
    "        A = A * M\n",
    "        return A, M\n",
    "\n",
    "    def forwardPropagation(self, X):\n",
    "        \"\"\"\n",
    "        Runs an input X through the neural network to compute activations\n",
    "        for all layers. Returns the output computed at the last layer along\n",
    "        with the cache required for backpropagation.\n",
    "        :returns: (tuple) AL, cache\n",
    "            WHERE \n",
    "            AL is activation of last layer\n",
    "            cache is cached values for each layer that\n",
    "                     are needed in further steps\n",
    "        \"\"\"\n",
    "        \n",
    "        cache = {}\n",
    "        A = X\n",
    "        for l in range(1, self.num_layers):\n",
    "            A, cache_l = self.affineForward(A,\n",
    "                                            self.parameters[('W', l)], \n",
    "                                            self.parameters[('b', l)])\n",
    "            \n",
    "            if (l != self.num_layers - 1):\n",
    "                # don't do relu on output layer\n",
    "                A = self.activationForward(A)\n",
    "            M = None\n",
    "            if self.status == 'train' and self.drop_prob > 0 and l != self.num_layers - 1:\n",
    "            # dropout only when training\n",
    "                A, M = self.dropout(A, self.drop_prob)\n",
    "            cache[l] = cache_l + (M,)\n",
    "#             print (len(cache[l]))\n",
    "        # return AL, cache\n",
    "        return A, cache\n",
    "    \n",
    "    def costFunction(self, AL, y):\n",
    "        \"\"\"\n",
    "        :param AL: Activation of last layer, shape (num_classes, S)\n",
    "        :param y: labels, shape (S)\n",
    "        :param alpha: regularization parameter\n",
    "        :returns cost, dAL: A scalar denoting cost and the gradient of cost\n",
    "        \"\"\"\n",
    "        assert (self.status == 'train')\n",
    "        # compute loss\n",
    "        S = AL.shape[1]\n",
    "        probs = np.exp(AL - np.max(AL, axis=0, keepdims=True))\n",
    "        probs /= np.sum(probs, axis=0, keepdims=True)\n",
    "        cost = -np.sum(np.log(probs[y, np.arange(S)])) / S\n",
    "        \n",
    "        if self.reg_lambda > 0:\n",
    "            # add regularization\n",
    "            for l in range(1, self.num_layers):\n",
    "                cost += 0.5 * self.reg_lambda * np.sum(np.power(self.parameters[('W', l)], 2))\n",
    "        dAL = probs.copy()\n",
    "        dAL[y, np.arange(S)] -= 1\n",
    "        dAL /= S\n",
    "        return cost, dAL\n",
    "\n",
    "    def affineBackward(self, dA_prev, cache):\n",
    "        \"\"\"\n",
    "        Backward pass for the affine layer.\n",
    "        :param dA_prev: gradient from the next layer.\n",
    "        :param cache: cache returned in affineForward\n",
    "        :returns dA: gradient on the input to this layer\n",
    "                 dW: gradient on the weights\n",
    "                 db: gradient on the bias\n",
    "        \"\"\"\n",
    "#        A = cache[0]\n",
    "#        W = cache[1]\n",
    "#        b = cache[2]\n",
    "        A, W, b, Z, M = cache\n",
    "        S = A.shape[1]\n",
    "        \n",
    "#         dZ = self.activationBackward(dA_prev, cache)\n",
    "        dA = np.dot(W.T, dA_prev)\n",
    "        dW = np.dot(dA_prev, A.T) / S\n",
    "        db = np.sum(dA_prev, axis = 1, keepdims=True) / S # or np.mean() ?\n",
    "        # dA = W.T.dot(dA_prev) \n",
    "        # dW = dA_prev.dot(A.T) / S\n",
    "        # db = np.sum(dA_pre, axis = 1) / S\n",
    "        return dA, dW, db\n",
    "    \n",
    "    def activationBackward(self, dA, cache, activation=\"relu\"):\n",
    "        \"\"\"\n",
    "        Interface to call backward on activation functions.\n",
    "        In this case, it's just relu. \n",
    "        \"\"\"\n",
    "        return self.relu_derivative(dA, cache[3]) # cache[3] == Z[l]\n",
    "        \n",
    "    def relu_derivative(self, dx, cached_x):\n",
    "        out = np.maximum(0, cached_x)\n",
    "        out[out > 0] = 1\n",
    "        dx = out * dx\n",
    "        return dx\n",
    "\n",
    "    def dropout_backward(self, dA, cache):\n",
    "        A, W, b, Z, M = cache\n",
    "        return dA * M # cache[4] = Mdropout_backward\n",
    "\n",
    "    def backPropagation(self, dAL, Y, cache):\n",
    "        \"\"\"\n",
    "        Run backpropagation to compute gradients on all paramters in the model\n",
    "        :param dAL: gradient on the last layer of the network. Returned by the cost function.\n",
    "        :param Y: labels\n",
    "        :param cache: cached values during forwardprop\n",
    "        :returns gradients: dW and db for each weight/bias\n",
    "        \"\"\"\n",
    "        assert (self.status == 'train')\n",
    "        gradients = {}\n",
    "        dA = dAL\n",
    "        for l in range(self.num_layers-1, 0, -1):\n",
    "            if self.drop_prob > 0 and l != self.num_layers - 1:\n",
    "                dA = self.dropout_backward(dA, cache[l])\n",
    "            if l != self.num_layers - 1:\n",
    "                dA = self.activationBackward(dA, cache[l])\n",
    "            dA, dW, db = self.affineBackward(dA, cache[l])\n",
    "            # assert (dW.shape == self.parameters[('W', l)].shape), '{} - {}'.format(dW.shape, self.parameters[('W', l)].shape)\n",
    "            # assert (db.shape == self.parameters[('b', l)].shape), '{} - {}'.format(db.shape, self.parameters[('b', l)].shape)\n",
    "            gradients[('W', l)] = dW\n",
    "            # gradients[('b', l)] = db # should b be regularized ?\n",
    "            if self.reg_lambda > 0:\n",
    "                # add gradients from L2 regularization to each dW\n",
    "                gradients[('W', l)] += self.reg_lambda * self.parameters[('W', l)]\n",
    "               #  gradients[('b', l)] += reg_lambda * self.parameters[('b', l)]\n",
    "        return gradients\n",
    "\n",
    "    def updateParameters(self, gradients, alpha):\n",
    "        \"\"\"\n",
    "        :param gradients: gradients for each weight/bias\n",
    "        :param alpha: step size for gradient descent \n",
    "        \"\"\"\n",
    "        for key in gradients.keys():\n",
    "            self.parameters[key] -= alpha * gradients[key]\n",
    "            \n",
    "    def train(self, X, y, iters=1000, alpha=0.0001, batch_size=100, print_every=100):\n",
    "        \"\"\"\n",
    "        :param X: input samples, each column is a sample\n",
    "        :param y: labels for input samples, y.shape[0] must equal X.shape[1]\n",
    "        :param iters: number of training iterations\n",
    "        :param alpha: step size for gradient descent\n",
    "        :param batch_size: number of samples in a minibatch\n",
    "        :param print_every: no. of iterations to print debug info after\n",
    "        \"\"\"\n",
    "        assert (alpha * self.reg_lambda < 1)\n",
    "        self.status = 'train'\n",
    "        self.parameters['mean'] = np.mean(X, axis = 1, keepdims = True)\n",
    "        self.parameters['var'] = np.var(X, axis = 1, keepdims = True)\n",
    "        X = (X - self.parameters['mean']) / np.sqrt(self.parameters['var'])\n",
    "        for i in range(0, iters):\n",
    "            # get minibatch\n",
    "            X_batch, y_batch = self.get_batch(X, y, batch_size)\n",
    "            # forward prop\n",
    "            AL, cache = self.forwardPropagation(X_batch)\n",
    "            # compute loss\n",
    "            cost, dAL = self.costFunction(AL, y_batch)\n",
    "            # compute gradients\n",
    "            gradients = self.backPropagation(dAL, y_batch, cache)\n",
    "            # update weights and biases based on gradient\n",
    "            self.updateParameters(gradients, alpha)\n",
    "            if i % print_every == 0:\n",
    "                # print cost, train and validation set accuracies\n",
    "                trn_acc = self.score(self.predict(X), y)\n",
    "                if self.X_val is not None:\n",
    "                    val_acc = self.score(self.predict(self.X_val), self.y_val)\n",
    "                else:\n",
    "                    val_acc = np.nan\n",
    "                print('iter={:5}, cost={:.4f}, trn_acc={:.4f}, val_acc={:.4f}'.format(i, cost, trn_acc, val_acc))\n",
    "                \n",
    "    def predict(self, X):\n",
    "        \"\"\"\n",
    "        Make predictions for each sample\n",
    "        \"\"\"\n",
    "        self.status = 'predict'\n",
    "        X = (X - self.parameters['mean']) / np.sqrt(self.parameters['var'])\n",
    "        AL, _ = self.forwardPropagation(X)\n",
    "        y_pred = np.argmax(AL, axis = 0)\n",
    "        self.status = 'train'\n",
    "        return y_pred\n",
    "\n",
    "    def get_batch(self, X, y, batch_size):\n",
    "        \"\"\"\n",
    "        Return minibatch of samples and labels\n",
    "        \n",
    "        :param X, y: samples and corresponding labels\n",
    "        :parma batch_size: minibatch size\n",
    "        :returns: (tuple) X_batch, y_batch\n",
    "        \"\"\"\n",
    "        batch_idx = np.random.randint(X.shape[1], size = batch_size)\n",
    "        X_batch = X[:, batch_idx]\n",
    "        y_batch = y[batch_idx]\n",
    "#         print y_batch.shape\n",
    "        return X_batch, y_batch\n",
    "    \n",
    "    def score(self, y_pred, y_gold):\n",
    "        return np.mean(y_pred == y_gold)\n",
    "    \n",
    "    def load_validation_set(self, X_val, y_val):\n",
    "        self.X_val = X_val\n",
    "        self.y_val = y_val"
   ]
  },
  {
   "cell_type": "code",
   "execution_count": 3,
   "metadata": {
    "collapsed": true
   },
   "outputs": [],
   "source": [
    "# Helper functions, DO NOT modify this\n",
    "def get_img_array(path):\n",
    "    \"\"\"\n",
    "    Given path of image, returns it's numpy array\n",
    "    \"\"\"\n",
    "    return scipy.misc.imread(path)\n",
    "\n",
    "def get_files(folder):\n",
    "    \"\"\"\n",
    "    Given path to folder, returns list of files in it\n",
    "    \"\"\"\n",
    "    filenames = [file for file in glob.glob(folder+'*/*')]\n",
    "    filenames.sort()\n",
    "    return filenames\n",
    "\n",
    "def get_label(filepath, label2id):\n",
    "    \"\"\"\n",
    "    Files are assumed to be labeled as: /path/to/file/999_frog.png\n",
    "    Returns label for a filepath\n",
    "    \"\"\"\n",
    "    tokens = filepath.split('/')\n",
    "    label = tokens[-1].split('_')[1][:-4]\n",
    "    if label in label2id:\n",
    "        return label2id[label]\n",
    "    else:\n",
    "        sys.exit(\"Invalid label: \" + label)"
   ]
  },
  {
   "cell_type": "code",
   "execution_count": 4,
   "metadata": {
    "collapsed": true
   },
   "outputs": [],
   "source": [
    "# Functions to load data, DO NOT change these\n",
    "\n",
    "def get_labels(folder, label2id):\n",
    "    \"\"\"\n",
    "    Returns vector of labels extracted from filenames of all files in folder\n",
    "    :param folder: path to data folder\n",
    "    :param label2id: mapping of text labels to numeric ids. (Eg: automobile -> 0)\n",
    "    \"\"\"\n",
    "    files = get_files(folder)\n",
    "    y = []\n",
    "    for f in files:\n",
    "        y.append(get_label(f,label2id))\n",
    "    return np.array(y)\n",
    "\n",
    "def one_hot(y, num_classes=10):\n",
    "    \"\"\"\n",
    "    Converts each label index in y to vector with one_hot encoding\n",
    "    \"\"\"\n",
    "    y_one_hot = np.zeros((y.shape[0], num_classes))\n",
    "    y_one_hot[y] = 1\n",
    "    return y_one_hot.T\n",
    "\n",
    "def get_label_mapping(label_file):\n",
    "    \"\"\"\n",
    "    Returns mappings of label to index and index to label\n",
    "    The input file has list of labels, each on a separate line.\n",
    "    \"\"\"\n",
    "    with open(label_file, 'r') as f:\n",
    "        id2label = f.readlines()\n",
    "        id2label = [l.strip() for l in id2label]\n",
    "    label2id = {}\n",
    "    count = 0\n",
    "    for label in id2label:\n",
    "        label2id[label] = count\n",
    "        count += 1\n",
    "    return id2label, label2id\n",
    "\n",
    "def get_images(folder):\n",
    "    \"\"\"\n",
    "    returns numpy array of all samples in folder\n",
    "    each column is a sample resized to 30x30 and flattened\n",
    "    \"\"\"\n",
    "    files = get_files(folder)\n",
    "    images = []\n",
    "    count = 0\n",
    "    \n",
    "    for f in files:\n",
    "        count += 1\n",
    "        if count % 10000 == 0:\n",
    "            print(\"Loaded {}/{}\".format(count,len(files)))\n",
    "        img_arr = get_img_array(f)\n",
    "        img_arr = img_arr.flatten() / 255.0\n",
    "        images.append(img_arr)\n",
    "    X = np.column_stack(images)\n",
    "\n",
    "    return X\n",
    "\n",
    "def get_train_data(data_root_path):\n",
    "    \"\"\"\n",
    "    Return X and y\n",
    "    \"\"\"\n",
    "    train_data_path = data_root_path + 'train'\n",
    "    id2label, label2id = get_label_mapping(data_root_path+'labels.txt')\n",
    "    print(label2id)\n",
    "    X = get_images(train_data_path)\n",
    "    y = get_labels(train_data_path, label2id)\n",
    "    return X, y\n",
    "\n",
    "def save_predictions(filename, y):\n",
    "    \"\"\"\n",
    "    Dumps y into .npy file\n",
    "    \"\"\"\n",
    "    np.save(filename, y)"
   ]
  },
  {
   "cell_type": "code",
   "execution_count": 5,
   "metadata": {
    "scrolled": true
   },
   "outputs": [
    {
     "name": "stdout",
     "output_type": "stream",
     "text": [
      "{'airplane': 0, 'automobile': 1, 'bird': 2, 'cat': 3, 'deer': 4, 'dog': 5, 'frog': 6, 'horse': 7, 'ship': 8, 'truck': 9}\n",
      "Loaded 10000/50000\n",
      "Loaded 20000/50000\n",
      "Loaded 30000/50000\n",
      "Loaded 40000/50000\n",
      "Loaded 50000/50000\n",
      "Loaded 10000/10000\n",
      "Data loading done\n"
     ]
    }
   ],
   "source": [
    "# Load the data\n",
    "data_root_path = 'cifar10-hw1/'\n",
    "X_train, y_train = get_train_data(data_root_path) # this may take a few minutes\n",
    "X_test = get_images(data_root_path + 'test')\n",
    "print('Data loading done')"
   ]
  },
  {
   "cell_type": "code",
   "execution_count": null,
   "metadata": {},
   "outputs": [],
   "source": [
    "print(X_train.shape)\n",
    "print(y_train.shape)\n",
    "print(y_train[:5])"
   ]
  },
  {
   "cell_type": "code",
   "execution_count": null,
   "metadata": {},
   "outputs": [],
   "source": [
    "y_train.reshape(-1).shape"
   ]
  },
  {
   "cell_type": "code",
   "execution_count": null,
   "metadata": {
    "collapsed": true
   },
   "outputs": [],
   "source": [
    "row_dim = x.shape[0]\n",
    "col_dim = np.prod(x.shape[1:])\n",
    "x_reshape = x.reshape(row_dim, col_dim)"
   ]
  },
  {
   "cell_type": "markdown",
   "metadata": {},
   "source": [
    "## Part 1\n",
    "\n",
    "#### Simple fully-connected deep neural network"
   ]
  },
  {
   "cell_type": "code",
   "execution_count": null,
   "metadata": {
    "scrolled": true
   },
   "outputs": [],
   "source": [
    "layer_dimensions = [X_train.shape[0], 500, 100, 25, 10]  # including the input and output layers\n",
    "NN = NeuralNetwork(layer_dimensions)\n",
    "NN.train(X_train, y_train, iters=5000, alpha=1, batch_size=100, print_every=100)"
   ]
  },
  {
   "cell_type": "code",
   "execution_count": 52,
   "metadata": {
    "scrolled": true
   },
   "outputs": [
    {
     "name": "stdout",
     "output_type": "stream",
     "text": [
      "iter=    0, cost=2.3484, trn_acc=0.1143, val_acc=0.1140\n",
      "iter=  100, cost=2.0447, trn_acc=0.2757, val_acc=0.2888\n",
      "iter=  200, cost=1.9023, trn_acc=0.3398, val_acc=0.3494\n",
      "iter=  300, cost=1.8510, trn_acc=0.3616, val_acc=0.3752\n",
      "iter=  400, cost=1.7405, trn_acc=0.3926, val_acc=0.4010\n",
      "iter=  500, cost=1.6425, trn_acc=0.4072, val_acc=0.4166\n",
      "iter=  600, cost=1.5374, trn_acc=0.4132, val_acc=0.4310\n",
      "iter=  700, cost=1.6668, trn_acc=0.4226, val_acc=0.4408\n",
      "iter=  800, cost=1.5308, trn_acc=0.4415, val_acc=0.4454\n",
      "iter=  900, cost=1.5518, trn_acc=0.4413, val_acc=0.4538\n",
      "iter= 1000, cost=1.4304, trn_acc=0.4597, val_acc=0.4614\n",
      "iter= 1100, cost=1.4098, trn_acc=0.4658, val_acc=0.4626\n",
      "iter= 1200, cost=1.3725, trn_acc=0.4669, val_acc=0.4632\n",
      "iter= 1300, cost=1.3428, trn_acc=0.4732, val_acc=0.4686\n",
      "iter= 1400, cost=1.5014, trn_acc=0.4731, val_acc=0.4722\n",
      "iter= 1500, cost=1.3157, trn_acc=0.4926, val_acc=0.4716\n",
      "iter= 1600, cost=1.2744, trn_acc=0.4952, val_acc=0.4808\n",
      "iter= 1700, cost=1.3693, trn_acc=0.4979, val_acc=0.4844\n",
      "iter= 1800, cost=1.1757, trn_acc=0.4904, val_acc=0.4778\n",
      "iter= 1900, cost=1.2285, trn_acc=0.5131, val_acc=0.4834\n",
      "iter= 2000, cost=1.4277, trn_acc=0.5198, val_acc=0.4930\n",
      "iter= 2100, cost=1.1880, trn_acc=0.5164, val_acc=0.4904\n",
      "iter= 2200, cost=1.2977, trn_acc=0.5261, val_acc=0.4938\n",
      "iter= 2300, cost=1.2197, trn_acc=0.5320, val_acc=0.4912\n",
      "iter= 2400, cost=1.2217, trn_acc=0.5396, val_acc=0.4888\n",
      "iter= 2500, cost=1.2059, trn_acc=0.5418, val_acc=0.5050\n",
      "iter= 2600, cost=1.1643, trn_acc=0.5385, val_acc=0.5038\n",
      "iter= 2700, cost=1.2023, trn_acc=0.5541, val_acc=0.5070\n",
      "iter= 2800, cost=1.2830, trn_acc=0.5627, val_acc=0.5056\n",
      "iter= 2900, cost=1.3106, trn_acc=0.5603, val_acc=0.4926\n",
      "iter= 3000, cost=1.3253, trn_acc=0.5539, val_acc=0.5078\n",
      "iter= 3100, cost=1.2303, trn_acc=0.5422, val_acc=0.4962\n",
      "iter= 3200, cost=1.1077, trn_acc=0.5725, val_acc=0.5122\n",
      "iter= 3300, cost=1.0385, trn_acc=0.5626, val_acc=0.5108\n",
      "iter= 3400, cost=1.1576, trn_acc=0.5821, val_acc=0.5068\n",
      "iter= 3500, cost=1.1145, trn_acc=0.5681, val_acc=0.5084\n",
      "iter= 3600, cost=1.0426, trn_acc=0.5866, val_acc=0.5038\n",
      "iter= 3700, cost=1.1233, trn_acc=0.5772, val_acc=0.5022\n",
      "iter= 3800, cost=1.1464, trn_acc=0.5638, val_acc=0.5096\n",
      "iter= 3900, cost=1.1264, trn_acc=0.6052, val_acc=0.5126\n",
      "iter= 4000, cost=0.8855, trn_acc=0.5937, val_acc=0.5098\n",
      "iter= 4100, cost=0.9871, trn_acc=0.5834, val_acc=0.5112\n",
      "iter= 4200, cost=0.8565, trn_acc=0.5868, val_acc=0.4996\n"
     ]
    },
    {
     "ename": "KeyboardInterrupt",
     "evalue": "",
     "output_type": "error",
     "traceback": [
      "\u001b[0;31m---------------------------------------------------------------------------\u001b[0m",
      "\u001b[0;31mKeyboardInterrupt\u001b[0m                         Traceback (most recent call last)",
      "\u001b[0;32m<ipython-input-52-75f1c60e8e6c>\u001b[0m in \u001b[0;36m<module>\u001b[0;34m()\u001b[0m\n\u001b[1;32m      8\u001b[0m \u001b[0mNN\u001b[0m \u001b[0;34m=\u001b[0m \u001b[0mNeuralNetwork\u001b[0m\u001b[0;34m(\u001b[0m\u001b[0mlayer_dimensions\u001b[0m\u001b[0;34m)\u001b[0m\u001b[0;34m\u001b[0m\u001b[0m\n\u001b[1;32m      9\u001b[0m \u001b[0mNN\u001b[0m\u001b[0;34m.\u001b[0m\u001b[0mload_validation_set\u001b[0m\u001b[0;34m(\u001b[0m\u001b[0mX_val\u001b[0m\u001b[0;34m,\u001b[0m \u001b[0my_val\u001b[0m\u001b[0;34m)\u001b[0m\u001b[0;34m\u001b[0m\u001b[0m\n\u001b[0;32m---> 10\u001b[0;31m \u001b[0mNN\u001b[0m\u001b[0;34m.\u001b[0m\u001b[0mtrain\u001b[0m\u001b[0;34m(\u001b[0m\u001b[0mX_trn\u001b[0m\u001b[0;34m,\u001b[0m \u001b[0my_trn\u001b[0m\u001b[0;34m,\u001b[0m \u001b[0miters\u001b[0m\u001b[0;34m=\u001b[0m\u001b[0;36m5000\u001b[0m\u001b[0;34m,\u001b[0m \u001b[0malpha\u001b[0m\u001b[0;34m=\u001b[0m\u001b[0;36m1\u001b[0m\u001b[0;34m,\u001b[0m \u001b[0mbatch_size\u001b[0m\u001b[0;34m=\u001b[0m\u001b[0;36m100\u001b[0m\u001b[0;34m,\u001b[0m \u001b[0mprint_every\u001b[0m\u001b[0;34m=\u001b[0m\u001b[0;36m100\u001b[0m\u001b[0;34m)\u001b[0m\u001b[0;34m\u001b[0m\u001b[0m\n\u001b[0m",
      "\u001b[0;32m<ipython-input-51-eda6deef46ba>\u001b[0m in \u001b[0;36mtrain\u001b[0;34m(self, X, y, iters, alpha, batch_size, print_every)\u001b[0m\n\u001b[1;32m    229\u001b[0m             \u001b[0;32mif\u001b[0m \u001b[0mi\u001b[0m \u001b[0;34m%\u001b[0m \u001b[0mprint_every\u001b[0m \u001b[0;34m==\u001b[0m \u001b[0;36m0\u001b[0m\u001b[0;34m:\u001b[0m\u001b[0;34m\u001b[0m\u001b[0m\n\u001b[1;32m    230\u001b[0m                 \u001b[0;31m# print cost, train and validation set accuracies\u001b[0m\u001b[0;34m\u001b[0m\u001b[0;34m\u001b[0m\u001b[0m\n\u001b[0;32m--> 231\u001b[0;31m                 \u001b[0mtrn_acc\u001b[0m \u001b[0;34m=\u001b[0m \u001b[0mself\u001b[0m\u001b[0;34m.\u001b[0m\u001b[0mscore\u001b[0m\u001b[0;34m(\u001b[0m\u001b[0mself\u001b[0m\u001b[0;34m.\u001b[0m\u001b[0mpredict\u001b[0m\u001b[0;34m(\u001b[0m\u001b[0mX\u001b[0m\u001b[0;34m)\u001b[0m\u001b[0;34m,\u001b[0m \u001b[0my\u001b[0m\u001b[0;34m)\u001b[0m\u001b[0;34m\u001b[0m\u001b[0m\n\u001b[0m\u001b[1;32m    232\u001b[0m                 \u001b[0;32mif\u001b[0m \u001b[0mself\u001b[0m\u001b[0;34m.\u001b[0m\u001b[0mX_val\u001b[0m \u001b[0;32mis\u001b[0m \u001b[0;32mnot\u001b[0m \u001b[0;32mNone\u001b[0m\u001b[0;34m:\u001b[0m\u001b[0;34m\u001b[0m\u001b[0m\n\u001b[1;32m    233\u001b[0m                     \u001b[0mval_acc\u001b[0m \u001b[0;34m=\u001b[0m \u001b[0mself\u001b[0m\u001b[0;34m.\u001b[0m\u001b[0mscore\u001b[0m\u001b[0;34m(\u001b[0m\u001b[0mself\u001b[0m\u001b[0;34m.\u001b[0m\u001b[0mpredict\u001b[0m\u001b[0;34m(\u001b[0m\u001b[0mself\u001b[0m\u001b[0;34m.\u001b[0m\u001b[0mX_val\u001b[0m\u001b[0;34m)\u001b[0m\u001b[0;34m,\u001b[0m \u001b[0mself\u001b[0m\u001b[0;34m.\u001b[0m\u001b[0my_val\u001b[0m\u001b[0;34m)\u001b[0m\u001b[0;34m\u001b[0m\u001b[0m\n",
      "\u001b[0;32m<ipython-input-51-eda6deef46ba>\u001b[0m in \u001b[0;36mpredict\u001b[0;34m(self, X)\u001b[0m\n\u001b[1;32m    242\u001b[0m         \u001b[0mself\u001b[0m\u001b[0;34m.\u001b[0m\u001b[0mstatus\u001b[0m \u001b[0;34m=\u001b[0m \u001b[0;34m'predict'\u001b[0m\u001b[0;34m\u001b[0m\u001b[0m\n\u001b[1;32m    243\u001b[0m         \u001b[0mX\u001b[0m \u001b[0;34m=\u001b[0m \u001b[0;34m(\u001b[0m\u001b[0mX\u001b[0m \u001b[0;34m-\u001b[0m \u001b[0mself\u001b[0m\u001b[0;34m.\u001b[0m\u001b[0mparameters\u001b[0m\u001b[0;34m[\u001b[0m\u001b[0;34m'mean'\u001b[0m\u001b[0;34m]\u001b[0m\u001b[0;34m)\u001b[0m \u001b[0;34m/\u001b[0m \u001b[0mnp\u001b[0m\u001b[0;34m.\u001b[0m\u001b[0msqrt\u001b[0m\u001b[0;34m(\u001b[0m\u001b[0mself\u001b[0m\u001b[0;34m.\u001b[0m\u001b[0mparameters\u001b[0m\u001b[0;34m[\u001b[0m\u001b[0;34m'var'\u001b[0m\u001b[0;34m]\u001b[0m\u001b[0;34m)\u001b[0m\u001b[0;34m\u001b[0m\u001b[0m\n\u001b[0;32m--> 244\u001b[0;31m         \u001b[0mAL\u001b[0m\u001b[0;34m,\u001b[0m \u001b[0m_\u001b[0m \u001b[0;34m=\u001b[0m \u001b[0mself\u001b[0m\u001b[0;34m.\u001b[0m\u001b[0mforwardPropagation\u001b[0m\u001b[0;34m(\u001b[0m\u001b[0mX\u001b[0m\u001b[0;34m)\u001b[0m\u001b[0;34m\u001b[0m\u001b[0m\n\u001b[0m\u001b[1;32m    245\u001b[0m         \u001b[0my_pred\u001b[0m \u001b[0;34m=\u001b[0m \u001b[0mnp\u001b[0m\u001b[0;34m.\u001b[0m\u001b[0margmax\u001b[0m\u001b[0;34m(\u001b[0m\u001b[0mAL\u001b[0m\u001b[0;34m,\u001b[0m \u001b[0maxis\u001b[0m \u001b[0;34m=\u001b[0m \u001b[0;36m0\u001b[0m\u001b[0;34m)\u001b[0m\u001b[0;34m\u001b[0m\u001b[0m\n\u001b[1;32m    246\u001b[0m         \u001b[0mself\u001b[0m\u001b[0;34m.\u001b[0m\u001b[0mstatus\u001b[0m \u001b[0;34m=\u001b[0m \u001b[0;34m'train'\u001b[0m\u001b[0;34m\u001b[0m\u001b[0m\n",
      "\u001b[0;32m<ipython-input-51-eda6deef46ba>\u001b[0m in \u001b[0;36mforwardPropagation\u001b[0;34m(self, X)\u001b[0m\n\u001b[1;32m     89\u001b[0m             A, cache_l = self.affineForward(A,\n\u001b[1;32m     90\u001b[0m                                             \u001b[0mself\u001b[0m\u001b[0;34m.\u001b[0m\u001b[0mparameters\u001b[0m\u001b[0;34m[\u001b[0m\u001b[0;34m(\u001b[0m\u001b[0;34m'W'\u001b[0m\u001b[0;34m,\u001b[0m \u001b[0ml\u001b[0m\u001b[0;34m)\u001b[0m\u001b[0;34m]\u001b[0m\u001b[0;34m,\u001b[0m\u001b[0;34m\u001b[0m\u001b[0m\n\u001b[0;32m---> 91\u001b[0;31m                                             self.parameters[('b', l)])\n\u001b[0m\u001b[1;32m     92\u001b[0m \u001b[0;34m\u001b[0m\u001b[0m\n\u001b[1;32m     93\u001b[0m             \u001b[0;32mif\u001b[0m \u001b[0;34m(\u001b[0m\u001b[0ml\u001b[0m \u001b[0;34m!=\u001b[0m \u001b[0mself\u001b[0m\u001b[0;34m.\u001b[0m\u001b[0mnum_layers\u001b[0m \u001b[0;34m-\u001b[0m \u001b[0;36m1\u001b[0m\u001b[0;34m)\u001b[0m\u001b[0;34m:\u001b[0m\u001b[0;34m\u001b[0m\u001b[0m\n",
      "\u001b[0;32m<ipython-input-51-eda6deef46ba>\u001b[0m in \u001b[0;36maffineForward\u001b[0;34m(self, A, W, b)\u001b[0m\n\u001b[1;32m     40\u001b[0m \u001b[0;31m#             # dropout only when training\u001b[0m\u001b[0;34m\u001b[0m\u001b[0;34m\u001b[0m\u001b[0m\n\u001b[1;32m     41\u001b[0m \u001b[0;31m#             A, M = self.dropout(A, self.drop_prob)\u001b[0m\u001b[0;34m\u001b[0m\u001b[0;34m\u001b[0m\u001b[0m\n\u001b[0;32m---> 42\u001b[0;31m         \u001b[0mZ\u001b[0m \u001b[0;34m=\u001b[0m \u001b[0mnp\u001b[0m\u001b[0;34m.\u001b[0m\u001b[0mdot\u001b[0m\u001b[0;34m(\u001b[0m\u001b[0mW\u001b[0m\u001b[0;34m,\u001b[0m \u001b[0mA\u001b[0m\u001b[0;34m)\u001b[0m \u001b[0;34m+\u001b[0m \u001b[0mb\u001b[0m\u001b[0;34m\u001b[0m\u001b[0m\n\u001b[0m\u001b[1;32m     43\u001b[0m         \u001b[0mcache\u001b[0m \u001b[0;34m=\u001b[0m \u001b[0;34m(\u001b[0m\u001b[0mA\u001b[0m\u001b[0;34m,\u001b[0m \u001b[0mW\u001b[0m\u001b[0;34m,\u001b[0m \u001b[0mb\u001b[0m\u001b[0;34m,\u001b[0m \u001b[0mZ\u001b[0m\u001b[0;34m)\u001b[0m\u001b[0;34m\u001b[0m\u001b[0m\n\u001b[1;32m     44\u001b[0m         \u001b[0;32mreturn\u001b[0m \u001b[0mZ\u001b[0m\u001b[0;34m,\u001b[0m \u001b[0mcache\u001b[0m\u001b[0;34m\u001b[0m\u001b[0m\n",
      "\u001b[0;31mKeyboardInterrupt\u001b[0m: "
     ]
    }
   ],
   "source": [
    "## trn_acc = 0.652, val_acc = 0.5068, 5 min [alittle bit better]\n",
    "def split(X, y, test_size):\n",
    "    indices = np.random.permutation(X.shape[1])\n",
    "    test_num = int(test_size * X.shape[1])\n",
    "    return X[:, indices[test_num:]], X[:, indices[:test_num]], y[indices[test_num:]], y[indices[:test_num]]\n",
    "X_trn, X_val, y_trn, y_val = split(X_train, y_train, test_size=0.1)\n",
    "layer_dimensions = [X_train.shape[0], 1000, 200, 50, 10]\n",
    "NN = NeuralNetwork(layer_dimensions)\n",
    "NN.load_validation_set(X_val, y_val)\n",
    "# 3200 iter to 0.512 then overfit, waiting for genius to tune the parameter, basiclly reduce the learn rate and try\n",
    "NN.train(X_trn, y_trn, iters=5000, alpha=1, batch_size=100, print_every=100)"
   ]
  },
  {
   "cell_type": "code",
   "execution_count": null,
   "metadata": {
    "collapsed": true
   },
   "outputs": [],
   "source": [
    "y_predicted = NN.predict(X_test)\n",
    "save_predictions('ans1-uni', y_predicted)"
   ]
  },
  {
   "cell_type": "code",
   "execution_count": null,
   "metadata": {
    "collapsed": true
   },
   "outputs": [],
   "source": [
    "# test if your numpy file has been saved correctly\n",
    "loaded_y = np.load('ans1-uni.npy')\n",
    "print(loaded_y.shape)\n",
    "loaded_y[:10]"
   ]
  },
  {
   "cell_type": "markdown",
   "metadata": {
    "collapsed": true
   },
   "source": [
    "## Part 2: Regularizing the neural network\n",
    "#### Add dropout and L2 regularization"
   ]
  },
  {
   "cell_type": "code",
   "execution_count": null,
   "metadata": {
    "collapsed": true
   },
   "outputs": [],
   "source": [
    "NN2 = NeuralNetwork(layer_dimensions, drop_prob=0, reg_lambda=0)\n",
    "NN2.train(X_train, y_train, iters=1000, alpha=0.00001, batch_size=1000, print_every=10)"
   ]
  },
  {
   "cell_type": "code",
   "execution_count": null,
   "metadata": {
    "collapsed": true
   },
   "outputs": [],
   "source": [
    "y_predicted2 = NN2.predict(X)\n",
    "save_predictions(y_predicted, 'ans2-uni')"
   ]
  },
  {
   "cell_type": "code",
   "execution_count": 55,
   "metadata": {},
   "outputs": [
    {
     "name": "stdout",
     "output_type": "stream",
     "text": [
      "iter=    0, cost=2.3646, trn_acc=0.1156, val_acc=0.1150\n",
      "iter=  100, cost=2.0209, trn_acc=0.2703, val_acc=0.2822\n",
      "iter=  200, cost=1.9195, trn_acc=0.3327, val_acc=0.3440\n",
      "iter=  300, cost=1.8111, trn_acc=0.3554, val_acc=0.3708\n",
      "iter=  400, cost=1.7576, trn_acc=0.3835, val_acc=0.3948\n",
      "iter=  500, cost=1.8134, trn_acc=0.3950, val_acc=0.4072\n",
      "iter=  600, cost=1.5916, trn_acc=0.4072, val_acc=0.4236\n",
      "iter=  700, cost=1.6737, trn_acc=0.4278, val_acc=0.4374\n",
      "iter=  800, cost=1.5569, trn_acc=0.4356, val_acc=0.4422\n",
      "iter=  900, cost=1.4932, trn_acc=0.4422, val_acc=0.4454\n",
      "iter= 1000, cost=1.5751, trn_acc=0.4453, val_acc=0.4572\n",
      "iter= 1100, cost=1.4345, trn_acc=0.4534, val_acc=0.4626\n",
      "iter= 1200, cost=1.6250, trn_acc=0.4613, val_acc=0.4582\n",
      "iter= 1300, cost=1.4982, trn_acc=0.4692, val_acc=0.4612\n",
      "iter= 1400, cost=1.2220, trn_acc=0.4759, val_acc=0.4742\n",
      "iter= 1500, cost=1.5639, trn_acc=0.4822, val_acc=0.4752\n",
      "iter= 1600, cost=1.5022, trn_acc=0.4896, val_acc=0.4744\n",
      "iter= 1700, cost=1.5436, trn_acc=0.4915, val_acc=0.4742\n",
      "iter= 1800, cost=1.5199, trn_acc=0.4998, val_acc=0.4808\n",
      "iter= 1900, cost=1.4164, trn_acc=0.5004, val_acc=0.4862\n",
      "iter= 2000, cost=1.3352, trn_acc=0.5101, val_acc=0.4850\n",
      "iter= 2100, cost=1.3468, trn_acc=0.5112, val_acc=0.4828\n",
      "iter= 2200, cost=1.2044, trn_acc=0.5083, val_acc=0.4874\n",
      "iter= 2300, cost=1.3106, trn_acc=0.5240, val_acc=0.4888\n",
      "iter= 2400, cost=1.3578, trn_acc=0.5170, val_acc=0.4906\n",
      "iter= 2500, cost=1.4430, trn_acc=0.5181, val_acc=0.4894\n",
      "iter= 2600, cost=1.4696, trn_acc=0.5297, val_acc=0.4928\n",
      "iter= 2700, cost=1.3372, trn_acc=0.5252, val_acc=0.5002\n",
      "iter= 2800, cost=1.3333, trn_acc=0.5439, val_acc=0.4986\n",
      "iter= 2900, cost=1.2763, trn_acc=0.5453, val_acc=0.4988\n",
      "iter= 3000, cost=1.4530, trn_acc=0.5402, val_acc=0.4936\n",
      "iter= 3100, cost=1.4193, trn_acc=0.5460, val_acc=0.4982\n",
      "iter= 3200, cost=1.1290, trn_acc=0.5560, val_acc=0.5044\n",
      "iter= 3300, cost=1.2251, trn_acc=0.5490, val_acc=0.5038\n",
      "iter= 3400, cost=1.5754, trn_acc=0.5608, val_acc=0.5044\n",
      "iter= 3500, cost=1.2487, trn_acc=0.5633, val_acc=0.5060\n",
      "iter= 3600, cost=1.1894, trn_acc=0.5669, val_acc=0.5092\n",
      "iter= 3700, cost=1.0419, trn_acc=0.5598, val_acc=0.5074\n",
      "iter= 3800, cost=1.3787, trn_acc=0.5690, val_acc=0.5070\n",
      "iter= 3900, cost=1.2357, trn_acc=0.5808, val_acc=0.5090\n",
      "iter= 4000, cost=1.2117, trn_acc=0.5739, val_acc=0.5134\n",
      "iter= 4100, cost=1.0940, trn_acc=0.5718, val_acc=0.5084\n",
      "iter= 4200, cost=1.2570, trn_acc=0.5872, val_acc=0.5178\n",
      "iter= 4300, cost=1.3643, trn_acc=0.5949, val_acc=0.5186\n",
      "iter= 4400, cost=1.2948, trn_acc=0.5910, val_acc=0.5168\n",
      "iter= 4500, cost=1.1971, trn_acc=0.5871, val_acc=0.5182\n",
      "iter= 4600, cost=1.2809, trn_acc=0.5992, val_acc=0.5192\n",
      "iter= 4700, cost=1.0828, trn_acc=0.5959, val_acc=0.5164\n",
      "iter= 4800, cost=1.2023, trn_acc=0.6096, val_acc=0.5156\n",
      "iter= 4900, cost=1.1634, trn_acc=0.6109, val_acc=0.5194\n"
     ]
    }
   ],
   "source": [
    "def split(X, y, test_size):\n",
    "    indices = np.random.permutation(X.shape[1])\n",
    "    test_num = int(test_size * X.shape[1])\n",
    "    return X[:, indices[test_num:]], X[:, indices[:test_num]], y[indices[test_num:]], y[indices[:test_num]]\n",
    "X_trn, X_val, y_trn, y_val = split(X_train, y_train, test_size=0.1)\n",
    "layer_dimensions = [X_train.shape[0], 1000, 200, 50, 10]\n",
    "NN = NeuralNetwork(layer_dimensions, drop_prob=0.065, reg_lambda=0.0)\n",
    "NN.load_validation_set(X_val, y_val)\n",
    "# 4900 iter to 0.5194\n",
    "NN.train(X_trn, y_trn, iters=5000, alpha=1, batch_size=100, print_every=100)"
   ]
  },
  {
   "cell_type": "markdown",
   "metadata": {},
   "source": [
    "# expression testing"
   ]
  },
  {
   "cell_type": "code",
   "execution_count": 39,
   "metadata": {},
   "outputs": [
    {
     "data": {
      "text/plain": [
       "(1, '1')"
      ]
     },
     "execution_count": 39,
     "metadata": {},
     "output_type": "execute_result"
    }
   ],
   "source": [
    "a = (1, '1')\n",
    "a"
   ]
  },
  {
   "cell_type": "code",
   "execution_count": null,
   "metadata": {
    "collapsed": true
   },
   "outputs": [],
   "source": []
  },
  {
   "cell_type": "code",
   "execution_count": 42,
   "metadata": {},
   "outputs": [
    {
     "data": {
      "text/plain": [
       "(1, '1', 3)"
      ]
     },
     "execution_count": 42,
     "metadata": {},
     "output_type": "execute_result"
    }
   ],
   "source": [
    "b = a + (3,)\n",
    "b"
   ]
  },
  {
   "cell_type": "code",
   "execution_count": 48,
   "metadata": {},
   "outputs": [
    {
     "data": {
      "text/plain": [
       "(1, '1', 3, None)"
      ]
     },
     "execution_count": 48,
     "metadata": {},
     "output_type": "execute_result"
    }
   ],
   "source": [
    "b + (None, )"
   ]
  },
  {
   "cell_type": "code",
   "execution_count": 17,
   "metadata": {},
   "outputs": [
    {
     "data": {
      "text/plain": [
       "array([ 2.51287398,  0.43687488, -0.57080603])"
      ]
     },
     "execution_count": 17,
     "metadata": {},
     "output_type": "execute_result"
    }
   ],
   "source": [
    "np.random.randn(3)"
   ]
  },
  {
   "cell_type": "code",
   "execution_count": null,
   "metadata": {
    "collapsed": true
   },
   "outputs": [],
   "source": [
    "M = np.random.rand(size = A.shape)\n",
    "M = (M < prob) / (1 - prob)"
   ]
  },
  {
   "cell_type": "code",
   "execution_count": 7,
   "metadata": {
    "collapsed": true
   },
   "outputs": [],
   "source": [
    "a = np.array([[1, 2, 3], [4, 5, 6]])\n",
    "b = np.array([[-1, 2, 3], [4,5,6]])\n",
    "c = np.array([1,2,3]) "
   ]
  },
  {
   "cell_type": "code",
   "execution_count": null,
   "metadata": {},
   "outputs": [],
   "source": [
    "c.ravel().tolist()"
   ]
  },
  {
   "cell_type": "code",
   "execution_count": null,
   "metadata": {},
   "outputs": [],
   "source": [
    "a.T.dot(a)"
   ]
  },
  {
   "cell_type": "code",
   "execution_count": 25,
   "metadata": {},
   "outputs": [
    {
     "name": "stdout",
     "output_type": "stream",
     "text": [
      "a is 1, 2\n"
     ]
    }
   ],
   "source": []
  },
  {
   "cell_type": "code",
   "execution_count": null,
   "metadata": {
    "collapsed": true
   },
   "outputs": [],
   "source": [
    "a = np.array([[1, 2, 3], [4, 5, 6]])"
   ]
  },
  {
   "cell_type": "code",
   "execution_count": null,
   "metadata": {},
   "outputs": [],
   "source": [
    "prob = np.exp(a - np.max(a, axis=0, keepdims=True)) \n",
    "prob"
   ]
  },
  {
   "cell_type": "code",
   "execution_count": null,
   "metadata": {},
   "outputs": [],
   "source": [
    "np.arange(300).shape"
   ]
  },
  {
   "cell_type": "code",
   "execution_count": null,
   "metadata": {},
   "outputs": [],
   "source": [
    "np.arange(3).shape"
   ]
  },
  {
   "cell_type": "code",
   "execution_count": null,
   "metadata": {},
   "outputs": [],
   "source": [
    "prob[[0, 1, 1], np.arange(3)]"
   ]
  },
  {
   "cell_type": "code",
   "execution_count": null,
   "metadata": {},
   "outputs": [],
   "source": []
  },
  {
   "cell_type": "code",
   "execution_count": null,
   "metadata": {},
   "outputs": [],
   "source": [
    "np.sum(prob, axis=0, keepdims=True)"
   ]
  },
  {
   "cell_type": "code",
   "execution_count": null,
   "metadata": {
    "collapsed": true
   },
   "outputs": [],
   "source": [
    "N = a.shape[1]"
   ]
  },
  {
   "cell_type": "code",
   "execution_count": null,
   "metadata": {},
   "outputs": [],
   "source": [
    "np.arange(N)"
   ]
  },
  {
   "cell_type": "code",
   "execution_count": null,
   "metadata": {},
   "outputs": [],
   "source": [
    "prob"
   ]
  },
  {
   "cell_type": "code",
   "execution_count": null,
   "metadata": {},
   "outputs": [],
   "source": [
    "prob[[1, 1, 0], np.arange(N)]"
   ]
  },
  {
   "cell_type": "code",
   "execution_count": null,
   "metadata": {},
   "outputs": [],
   "source": [
    "y_train.shape"
   ]
  },
  {
   "cell_type": "code",
   "execution_count": null,
   "metadata": {},
   "outputs": [],
   "source": [
    "x.shape"
   ]
  },
  {
   "cell_type": "code",
   "execution_count": null,
   "metadata": {},
   "outputs": [],
   "source": [
    "row_dim = x.shape[0]\n",
    "row_dim"
   ]
  },
  {
   "cell_type": "code",
   "execution_count": null,
   "metadata": {},
   "outputs": [],
   "source": [
    "col_dim = np.prod(x.shape[1:])\n",
    "col_dim"
   ]
  },
  {
   "cell_type": "code",
   "execution_count": null,
   "metadata": {},
   "outputs": [],
   "source": [
    "weight_size"
   ]
  },
  {
   "cell_type": "code",
   "execution_count": null,
   "metadata": {},
   "outputs": [],
   "source": [
    "X_train.shape\n"
   ]
  },
  {
   "cell_type": "code",
   "execution_count": null,
   "metadata": {},
   "outputs": [],
   "source": [
    "x.shape"
   ]
  },
  {
   "cell_type": "code",
   "execution_count": null,
   "metadata": {},
   "outputs": [],
   "source": [
    "row_dim = x.shape[0]\n",
    "row_dim"
   ]
  },
  {
   "cell_type": "code",
   "execution_count": null,
   "metadata": {},
   "outputs": [],
   "source": [
    "x.shape[1:]"
   ]
  },
  {
   "cell_type": "code",
   "execution_count": null,
   "metadata": {},
   "outputs": [],
   "source": [
    "np.prod(x.shape[1:])"
   ]
  },
  {
   "cell_type": "code",
   "execution_count": null,
   "metadata": {},
   "outputs": [],
   "source": [
    "col_dim = np.prod(x.shape[1:])\n",
    "col_dim"
   ]
  },
  {
   "cell_type": "code",
   "execution_count": null,
   "metadata": {
    "collapsed": true
   },
   "outputs": [],
   "source": [
    "x_reshape = x.reshape(row_dim, col_dim)"
   ]
  },
  {
   "cell_type": "code",
   "execution_count": null,
   "metadata": {},
   "outputs": [],
   "source": [
    "x_reshape.shape"
   ]
  },
  {
   "cell_type": "code",
   "execution_count": null,
   "metadata": {},
   "outputs": [],
   "source": [
    "a"
   ]
  },
  {
   "cell_type": "code",
   "execution_count": null,
   "metadata": {},
   "outputs": [],
   "source": [
    "np.sum(a, axis = 1)"
   ]
  }
 ],
 "metadata": {
  "anaconda-cloud": {},
  "kernelspec": {
   "display_name": "Python 3",
   "language": "python",
   "name": "python3"
  },
  "language_info": {
   "codemirror_mode": {
    "name": "ipython",
    "version": 3
   },
   "file_extension": ".py",
   "mimetype": "text/x-python",
   "name": "python",
   "nbconvert_exporter": "python",
   "pygments_lexer": "ipython3",
   "version": "3.6.2"
  }
 },
 "nbformat": 4,
 "nbformat_minor": 2
}
